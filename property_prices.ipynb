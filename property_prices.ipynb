{
  "nbformat": 4,
  "nbformat_minor": 0,
  "metadata": {
    "kernelspec": {
      "display_name": "Python 3",
      "language": "python",
      "name": "python3"
    },
    "language_info": {
      "codemirror_mode": {
        "name": "ipython",
        "version": 3
      },
      "file_extension": ".py",
      "mimetype": "text/x-python",
      "name": "python",
      "nbconvert_exporter": "python",
      "pygments_lexer": "ipython3",
      "version": "3.8.0"
    },
    "colab": {
      "name": "property_prices.ipynb",
      "provenance": []
    }
  },
  "cells": [
    {
      "cell_type": "markdown",
      "metadata": {
        "id": "dhllOHh0iMTg"
      },
      "source": [
        " ## Exploratory data analysis"
      ]
    },
    {
      "cell_type": "markdown",
      "metadata": {
        "id": "7Q_SkpnMiMTl"
      },
      "source": [
        " 1. Check column data types\n",
        "     1. Check column values\n",
        "     2. Check target column value distribution \n",
        "     3. Identify key columns\n",
        " 2. Clean Data\n",
        "     1. Identify key columns\n",
        "     2. Format columns\n",
        " 4. Correlation matrix"
      ]
    },
    {
      "cell_type": "markdown",
      "metadata": {
        "id": "043EpIjviMTn"
      },
      "source": [
        "We start with importing the .csv file containing the sales data."
      ]
    },
    {
      "cell_type": "code",
      "metadata": {
        "scrolled": false,
        "id": "2uDz3xfKiMTo",
        "outputId": "cbca744e-2aa7-4017-bde2-2a37f8996d7f"
      },
      "source": [
        "import pandas as pd\n",
        "import numpy as np\n",
        "import matplotlib.pyplot as plt\n",
        "from matplotlib.ticker import StrMethodFormatter\n",
        "\n",
        "df = pd.read_csv('sales_data_2015.csv', index_col=0, low_memory=False)\n",
        "\n",
        "df.head()"
      ],
      "execution_count": null,
      "outputs": [
        {
          "data": {
            "text/html": [
              "<div>\n",
              "<style scoped>\n",
              "    .dataframe tbody tr th:only-of-type {\n",
              "        vertical-align: middle;\n",
              "    }\n",
              "\n",
              "    .dataframe tbody tr th {\n",
              "        vertical-align: top;\n",
              "    }\n",
              "\n",
              "    .dataframe thead th {\n",
              "        text-align: right;\n",
              "    }\n",
              "</style>\n",
              "<table border=\"1\" class=\"dataframe\">\n",
              "  <thead>\n",
              "    <tr style=\"text-align: right;\">\n",
              "      <th></th>\n",
              "      <th>Sale_id</th>\n",
              "      <th>bbl_id</th>\n",
              "      <th>year</th>\n",
              "      <th>borough</th>\n",
              "      <th>bldg_ctgy</th>\n",
              "      <th>tax_cls_p</th>\n",
              "      <th>block</th>\n",
              "      <th>lot</th>\n",
              "      <th>easmnt</th>\n",
              "      <th>bldg_cls_p</th>\n",
              "      <th>...</th>\n",
              "      <th>land_sqft</th>\n",
              "      <th>tot_sqft</th>\n",
              "      <th>yr_built</th>\n",
              "      <th>tax_cls_s</th>\n",
              "      <th>bldg_cls_s</th>\n",
              "      <th>sale_date</th>\n",
              "      <th>price</th>\n",
              "      <th>usable</th>\n",
              "      <th>long</th>\n",
              "      <th>lat</th>\n",
              "    </tr>\n",
              "  </thead>\n",
              "  <tbody>\n",
              "    <tr>\n",
              "      <th>0</th>\n",
              "      <td>1</td>\n",
              "      <td>2290528</td>\n",
              "      <td>2015</td>\n",
              "      <td>2</td>\n",
              "      <td>01  ONE FAMILY DWELLINGS</td>\n",
              "      <td>1</td>\n",
              "      <td>2905</td>\n",
              "      <td>28</td>\n",
              "      <td>NaN</td>\n",
              "      <td>A9</td>\n",
              "      <td>...</td>\n",
              "      <td>4750</td>\n",
              "      <td>2619</td>\n",
              "      <td>1899</td>\n",
              "      <td>1</td>\n",
              "      <td>A9</td>\n",
              "      <td>08-07-15</td>\n",
              "      <td>0</td>\n",
              "      <td>N</td>\n",
              "      <td>-73.901338</td>\n",
              "      <td>40.841229</td>\n",
              "    </tr>\n",
              "    <tr>\n",
              "      <th>1</th>\n",
              "      <td>2</td>\n",
              "      <td>2290528</td>\n",
              "      <td>2015</td>\n",
              "      <td>2</td>\n",
              "      <td>01  ONE FAMILY DWELLINGS</td>\n",
              "      <td>1</td>\n",
              "      <td>2905</td>\n",
              "      <td>28</td>\n",
              "      <td>NaN</td>\n",
              "      <td>A9</td>\n",
              "      <td>...</td>\n",
              "      <td>4750</td>\n",
              "      <td>2619</td>\n",
              "      <td>1899</td>\n",
              "      <td>1</td>\n",
              "      <td>A9</td>\n",
              "      <td>08-07-15</td>\n",
              "      <td>0</td>\n",
              "      <td>N</td>\n",
              "      <td>-73.901338</td>\n",
              "      <td>40.841229</td>\n",
              "    </tr>\n",
              "    <tr>\n",
              "      <th>2</th>\n",
              "      <td>3</td>\n",
              "      <td>230352</td>\n",
              "      <td>2015</td>\n",
              "      <td>2</td>\n",
              "      <td>01  ONE FAMILY DWELLINGS</td>\n",
              "      <td>1</td>\n",
              "      <td>3035</td>\n",
              "      <td>2</td>\n",
              "      <td>NaN</td>\n",
              "      <td>S1</td>\n",
              "      <td>...</td>\n",
              "      <td>1287</td>\n",
              "      <td>2528</td>\n",
              "      <td>1899</td>\n",
              "      <td>1</td>\n",
              "      <td>S1</td>\n",
              "      <td>12/18/2015</td>\n",
              "      <td>0</td>\n",
              "      <td>N</td>\n",
              "      <td>-73.898331</td>\n",
              "      <td>40.848648</td>\n",
              "    </tr>\n",
              "    <tr>\n",
              "      <th>3</th>\n",
              "      <td>4</td>\n",
              "      <td>2303936</td>\n",
              "      <td>2015</td>\n",
              "      <td>2</td>\n",
              "      <td>01  ONE FAMILY DWELLINGS</td>\n",
              "      <td>1</td>\n",
              "      <td>3039</td>\n",
              "      <td>36</td>\n",
              "      <td>NaN</td>\n",
              "      <td>S1</td>\n",
              "      <td>...</td>\n",
              "      <td>2500</td>\n",
              "      <td>2452</td>\n",
              "      <td>1910</td>\n",
              "      <td>1</td>\n",
              "      <td>S1</td>\n",
              "      <td>08/18/2015</td>\n",
              "      <td>0</td>\n",
              "      <td>N</td>\n",
              "      <td>-73.893338</td>\n",
              "      <td>40.856136</td>\n",
              "    </tr>\n",
              "    <tr>\n",
              "      <th>4</th>\n",
              "      <td>5</td>\n",
              "      <td>2303936</td>\n",
              "      <td>2015</td>\n",
              "      <td>2</td>\n",
              "      <td>01  ONE FAMILY DWELLINGS</td>\n",
              "      <td>1</td>\n",
              "      <td>3039</td>\n",
              "      <td>36</td>\n",
              "      <td>NaN</td>\n",
              "      <td>S1</td>\n",
              "      <td>...</td>\n",
              "      <td>2500</td>\n",
              "      <td>2452</td>\n",
              "      <td>1910</td>\n",
              "      <td>1</td>\n",
              "      <td>S1</td>\n",
              "      <td>07-01-15</td>\n",
              "      <td>400000</td>\n",
              "      <td>Y</td>\n",
              "      <td>-73.893338</td>\n",
              "      <td>40.856136</td>\n",
              "    </tr>\n",
              "  </tbody>\n",
              "</table>\n",
              "<p>5 rows × 26 columns</p>\n",
              "</div>"
            ],
            "text/plain": [
              "   Sale_id   bbl_id  year  borough                 bldg_ctgy tax_cls_p  block  \\\n",
              "0        1  2290528  2015        2  01  ONE FAMILY DWELLINGS         1   2905   \n",
              "1        2  2290528  2015        2  01  ONE FAMILY DWELLINGS         1   2905   \n",
              "2        3   230352  2015        2  01  ONE FAMILY DWELLINGS         1   3035   \n",
              "3        4  2303936  2015        2  01  ONE FAMILY DWELLINGS         1   3039   \n",
              "4        5  2303936  2015        2  01  ONE FAMILY DWELLINGS         1   3039   \n",
              "\n",
              "   lot easmnt bldg_cls_p  ... land_sqft tot_sqft  yr_built  tax_cls_s  \\\n",
              "0   28    NaN         A9  ...      4750     2619      1899          1   \n",
              "1   28    NaN         A9  ...      4750     2619      1899          1   \n",
              "2    2    NaN         S1  ...      1287     2528      1899          1   \n",
              "3   36    NaN         S1  ...      2500     2452      1910          1   \n",
              "4   36    NaN         S1  ...      2500     2452      1910          1   \n",
              "\n",
              "   bldg_cls_s   sale_date   price  usable       long        lat  \n",
              "0          A9    08-07-15       0       N -73.901338  40.841229  \n",
              "1          A9    08-07-15       0       N -73.901338  40.841229  \n",
              "2          S1  12/18/2015       0       N -73.898331  40.848648  \n",
              "3          S1  08/18/2015       0       N -73.893338  40.856136  \n",
              "4          S1    07-01-15  400000       Y -73.893338  40.856136  \n",
              "\n",
              "[5 rows x 26 columns]"
            ]
          },
          "execution_count": 1,
          "metadata": {},
          "output_type": "execute_result"
        }
      ]
    },
    {
      "cell_type": "markdown",
      "metadata": {
        "id": "spXnAHwfiMTr"
      },
      "source": [
        "The data has 26 dimensions, which are listed below.\n",
        "Some of the attribute names are quite ambiguous, such are the codes for tax and building classes. For more information you can have a look at\n",
        "\n",
        "https://www1.nyc.gov/assets/finance/downloads/pdf/07pdf/glossary_rsf071607.pdf\n",
        "\n",
        "and \n",
        "\n",
        "https://www1.nyc.gov/assets/finance/jump/hlpbldgcode.html ."
      ]
    },
    {
      "cell_type": "markdown",
      "metadata": {
        "id": "E_kB78VFiMTs"
      },
      "source": [
        "### 1. Check column data types"
      ]
    },
    {
      "cell_type": "markdown",
      "metadata": {
        "id": "hJ8njnCliMTt"
      },
      "source": [
        "Next we check how big the dataset is and how many entries we got"
      ]
    },
    {
      "cell_type": "code",
      "metadata": {
        "id": "g2C_svwliMTu",
        "outputId": "a1af6403-5f63-4f24-da84-742a6c197b04"
      },
      "source": [
        "df.info()"
      ],
      "execution_count": null,
      "outputs": [
        {
          "name": "stdout",
          "output_type": "stream",
          "text": [
            "<class 'pandas.core.frame.DataFrame'>\n",
            "Int64Index: 84768 entries, 0 to 84767\n",
            "Data columns (total 26 columns):\n",
            " #   Column      Non-Null Count  Dtype  \n",
            "---  ------      --------------  -----  \n",
            " 0   Sale_id     84768 non-null  int64  \n",
            " 1   bbl_id      84768 non-null  int64  \n",
            " 2   year        84768 non-null  int64  \n",
            " 3   borough     84768 non-null  int64  \n",
            " 4   bldg_ctgy   84768 non-null  object \n",
            " 5   tax_cls_p   84765 non-null  object \n",
            " 6   block       84768 non-null  int64  \n",
            " 7   lot         84768 non-null  int64  \n",
            " 8   easmnt      1 non-null      object \n",
            " 9   bldg_cls_p  84765 non-null  object \n",
            " 10  address     84768 non-null  object \n",
            " 11  apt         20983 non-null  object \n",
            " 12  zip         84768 non-null  int64  \n",
            " 13  res_unit    84768 non-null  int64  \n",
            " 14  com_unit    84768 non-null  int64  \n",
            " 15  tot_unit    84768 non-null  int64  \n",
            " 16  land_sqft   84768 non-null  int64  \n",
            " 17  tot_sqft    84768 non-null  int64  \n",
            " 18  yr_built    84768 non-null  int64  \n",
            " 19  tax_cls_s   84768 non-null  int64  \n",
            " 20  bldg_cls_s  84768 non-null  object \n",
            " 21  sale_date   84768 non-null  object \n",
            " 22  price       84768 non-null  int64  \n",
            " 23  usable      84768 non-null  object \n",
            " 24  long        84768 non-null  float64\n",
            " 25  lat         84768 non-null  float64\n",
            "dtypes: float64(2), int64(15), object(9)\n",
            "memory usage: 17.5+ MB\n"
          ]
        }
      ]
    },
    {
      "cell_type": "code",
      "metadata": {
        "scrolled": true,
        "id": "BKHTsAz5iMTv",
        "outputId": "f9c69dc2-8e56-46e0-a255-63b3752c994f"
      },
      "source": [
        "# All different categories of houses\n",
        "df.bldg_ctgy.unique()"
      ],
      "execution_count": null,
      "outputs": [
        {
          "data": {
            "text/plain": [
              "array(['01  ONE FAMILY DWELLINGS', '02  TWO FAMILY DWELLINGS',\n",
              "       '03  THREE FAMILY DWELLINGS', '05  TAX CLASS 1 VACANT LAND',\n",
              "       '07  RENTALS - WALKUP APARTMENTS',\n",
              "       '08  RENTALS - ELEVATOR APARTMENTS',\n",
              "       '09  COOPS - WALKUP APARTMENTS', '10  COOPS - ELEVATOR APARTMENTS',\n",
              "       '21  OFFICE BUILDINGS', '22  STORE BUILDINGS', '27  FACTORIES',\n",
              "       '29  COMMERCIAL GARAGES', '30  WAREHOUSES',\n",
              "       '31  COMMERCIAL VACANT LAND', '32  HOSPITAL AND HEALTH FACILITIES',\n",
              "       '41  TAX CLASS 4 - OTHER', '06  TAX CLASS 1 - OTHER',\n",
              "       '35  INDOOR PUBLIC AND CULTURAL FACILITIES',\n",
              "       '04  TAX CLASS 1 CONDOS', '14  RENTALS - 4-10 UNIT',\n",
              "       '17  CONDO COOPS', '33  EDUCATIONAL FACILITIES',\n",
              "       '37  RELIGIOUS FACILITIES', '43  CONDO OFFICE BUILDINGS',\n",
              "       '12  CONDOS - WALKUP APARTMENTS',\n",
              "       '13  CONDOS - ELEVATOR APARTMENTS', '26  OTHER HOTELS',\n",
              "       '36  OUTDOOR RECREATIONAL FACILITIES', '44  CONDO PARKING',\n",
              "       '11A CONDO-RENTALS', '15  CONDOS - 2-10 UNIT RESIDENTIAL',\n",
              "       '38  ASYLUMS AND HOMES', '46  CONDO STORE BUILDINGS',\n",
              "       '34  THEATRES', '16  CONDOS - 2-10 UNIT WITH COMMERCIAL UNIT',\n",
              "       '28  COMMERCIAL CONDOS',\n",
              "       '42  CONDO CULTURAL/MEDICAL/EDUCATIONAL/ETC',\n",
              "       '47  CONDO NON-BUSINESS STORAGE', '11  SPECIAL CONDO BILLING LOTS',\n",
              "       '18  TAX CLASS 3 - UNTILITY PROPERTIES', '23  LOFT BUILDINGS',\n",
              "       '39  TRANSPORTATION FACILITIES',\n",
              "       '40  SELECTED GOVERNMENTAL FACILITIES',\n",
              "       '48  CONDO TERRACES/GARDENS/CABANAS',\n",
              "       '49  CONDO WAREHOUSES/FACTORY/INDUS', '25  LUXURY HOTELS',\n",
              "       '24  TAX CLASS 4 - UTILITY BUREAU PROPERTIES', '45  CONDO HOTELS'],\n",
              "      dtype=object)"
            ]
          },
          "execution_count": 3,
          "metadata": {},
          "output_type": "execute_result"
        }
      ]
    },
    {
      "cell_type": "code",
      "metadata": {
        "scrolled": false,
        "id": "8oKomsICiMTw",
        "outputId": "2fe4e42d-7ca1-4146-b750-11a4b0475a44"
      },
      "source": [
        "## Building classes\n",
        "df.bldg_cls_p.unique()"
      ],
      "execution_count": null,
      "outputs": [
        {
          "data": {
            "text/plain": [
              "array(['A9', 'S1', 'A1', 'B1', 'S2', 'B3', 'B2', 'B9', 'C0', 'V3', 'V0',\n",
              "       'C1', 'C7', 'D1', 'C6', 'D4', 'O7', 'O1', 'K1', 'K2', 'F1', 'F9',\n",
              "       'G2', 'G9', 'G7', 'G6', 'E3', 'E1', 'K9', 'V1', 'I5', 'I9', 'Z9',\n",
              "       'A5', 'A2', 'A0', 'A4', 'Z0', 'C3', 'F4', 'E9', 'P5', 'R3', 'G0',\n",
              "       'C2', 'C4', 'D7', 'S9', 'S3', 'R9', 'K4', 'W2', 'M9', 'M4', 'M1',\n",
              "       'RB', 'R2', 'O9', 'M3', 'F5', 'R4', 'G8', 'I7', 'P6', 'D3', 'H3',\n",
              "       'A6', 'A3', 'O5', 'Q8', 'RG', 'O6', 'P2', 'D5', 'D9', 'V9', 'S5',\n",
              "       'G1', 'C5', 'O8', 'E4', 'RR', 'G4', 'I6', 'RP', 'S4', 'K3', 'V2',\n",
              "       'W6', 'R1', 'N9', 'K7', 'F2', 'W1', 'D6', 'C9', 'G5', 'I1', 'W9',\n",
              "       'RK', 'J8', 'P9', 'K5', 'A8', 'V6', 'R8', 'R5', 'R6', 'C8', 'RA',\n",
              "       'RS', 'K6', 'Q9', 'R0', 'A7', 'R7', 'O3', 'I4', 'U8', 'L9', 'T9',\n",
              "       'S0', 'D0', nan, 'P3', 'Q2', 'RT', 'H4', 'W3', 'M2', 'E7', 'RW',\n",
              "       'F8', 'J6', 'W8', 'N2', 'U7', 'D8', 'L8', 'W7', 'J2', 'O2', 'L1',\n",
              "       'H2', 'HR', 'O4', 'U0', 'L3', 'L2', 'H1', 'HB', 'H8', 'J9', 'H6',\n",
              "       'P7', 'Q1', 'RH', 'H9', 'Z2', 'D2', 'HS', 'J4', 'W5', 'Y6', 'T1',\n",
              "       'Q6', 'Z1', 'G3', 'Q3', 'N4', 'U2', 'Z7'], dtype=object)"
            ]
          },
          "execution_count": 4,
          "metadata": {},
          "output_type": "execute_result"
        }
      ]
    },
    {
      "cell_type": "code",
      "metadata": {
        "id": "9uds0xkliMTx",
        "outputId": "cab0082d-a141-4919-d712-1b9298795bc7"
      },
      "source": [
        "## Different building categories\n",
        "df.groupby('bldg_ctgy')['Sale_id'].nunique()"
      ],
      "execution_count": null,
      "outputs": [
        {
          "data": {
            "text/plain": [
              "bldg_ctgy\n",
              "01  ONE FAMILY DWELLINGS                       16029\n",
              "02  TWO FAMILY DWELLINGS                       14373\n",
              "03  THREE FAMILY DWELLINGS                      4082\n",
              "04  TAX CLASS 1 CONDOS                          1426\n",
              "05  TAX CLASS 1 VACANT LAND                     1120\n",
              "06  TAX CLASS 1 - OTHER                          153\n",
              "07  RENTALS - WALKUP APARTMENTS                 4034\n",
              "08  RENTALS - ELEVATOR APARTMENTS                500\n",
              "09  COOPS - WALKUP APARTMENTS                   2770\n",
              "10  COOPS - ELEVATOR APARTMENTS                13323\n",
              "11  SPECIAL CONDO BILLING LOTS                     2\n",
              "11A CONDO-RENTALS                                 29\n",
              "12  CONDOS - WALKUP APARTMENTS                   687\n",
              "13  CONDOS - ELEVATOR APARTMENTS               11880\n",
              "14  RENTALS - 4-10 UNIT                          738\n",
              "15  CONDOS - 2-10 UNIT RESIDENTIAL              1101\n",
              "16  CONDOS - 2-10 UNIT WITH COMMERCIAL UNIT      109\n",
              "17  CONDO COOPS                                 1442\n",
              "18  TAX CLASS 3 - UNTILITY PROPERTIES              3\n",
              "21  OFFICE BUILDINGS                             439\n",
              "22  STORE BUILDINGS                             1082\n",
              "23  LOFT BUILDINGS                                48\n",
              "24  TAX CLASS 4 - UTILITY BUREAU PROPERTIES        8\n",
              "25  LUXURY HOTELS                                 12\n",
              "26  OTHER HOTELS                                1208\n",
              "27  FACTORIES                                    270\n",
              "28  COMMERCIAL CONDOS                             48\n",
              "29  COMMERCIAL GARAGES                           859\n",
              "30  WAREHOUSES                                   399\n",
              "31  COMMERCIAL VACANT LAND                       609\n",
              "32  HOSPITAL AND HEALTH FACILITIES                69\n",
              "33  EDUCATIONAL FACILITIES                        58\n",
              "34  THEATRES                                       8\n",
              "35  INDOOR PUBLIC AND CULTURAL FACILITIES         41\n",
              "36  OUTDOOR RECREATIONAL FACILITIES               15\n",
              "37  RELIGIOUS FACILITIES                         127\n",
              "38  ASYLUMS AND HOMES                             21\n",
              "39  TRANSPORTATION FACILITIES                      3\n",
              "40  SELECTED GOVERNMENTAL FACILITIES               4\n",
              "41  TAX CLASS 4 - OTHER                          166\n",
              "42  CONDO CULTURAL/MEDICAL/EDUCATIONAL/ETC         8\n",
              "43  CONDO OFFICE BUILDINGS                       597\n",
              "44  CONDO PARKING                               1309\n",
              "45  CONDO HOTELS                                2897\n",
              "46  CONDO STORE BUILDINGS                        226\n",
              "47  CONDO NON-BUSINESS STORAGE                   358\n",
              "48  CONDO TERRACES/GARDENS/CABANAS                33\n",
              "49  CONDO WAREHOUSES/FACTORY/INDUS                45\n",
              "Name: Sale_id, dtype: int64"
            ]
          },
          "execution_count": 5,
          "metadata": {},
          "output_type": "execute_result"
        }
      ]
    },
    {
      "cell_type": "code",
      "metadata": {
        "scrolled": true,
        "id": "-wZJ8r0BiMTy",
        "outputId": "db9102ac-ba3f-4472-f9e8-ea6ec2bedd8f"
      },
      "source": [
        "print(df.describe())"
      ],
      "execution_count": null,
      "outputs": [
        {
          "name": "stdout",
          "output_type": "stream",
          "text": [
            "            Sale_id        bbl_id     year       borough         block  \\\n",
            "count  84768.000000  8.476800e+04  84768.0  84768.000000  84768.000000   \n",
            "mean   42384.500000  5.552786e+07   2015.0      2.815968   3922.271812   \n",
            "std    24470.558146  1.137808e+08      0.0      1.331564   3505.674705   \n",
            "min        1.000000  0.000000e+00   2015.0      1.000000      1.000000   \n",
            "25%    21192.750000  1.195860e+06   2015.0      1.000000   1169.000000   \n",
            "50%    42384.500000  4.222320e+06   2015.0      3.000000   2657.000000   \n",
            "75%    63576.250000  4.130948e+07   2015.0      4.000000   5878.000000   \n",
            "max    84768.000000  5.786011e+08   2015.0      5.000000  16322.000000   \n",
            "\n",
            "                lot           zip      res_unit      com_unit      tot_unit  \\\n",
            "count  84768.000000  84768.000000  84768.000000  84768.000000  84768.000000   \n",
            "mean     395.336342  10795.058430      2.206882      0.213842      2.482894   \n",
            "std      671.917553    640.425751     33.803117      3.328458     34.129612   \n",
            "min        1.000000      0.000000      0.000000      0.000000      0.000000   \n",
            "25%       22.000000  10065.000000      0.000000      0.000000      1.000000   \n",
            "50%       50.000000  11206.000000      1.000000      0.000000      1.000000   \n",
            "75%     1003.000000  11355.000000      2.000000      0.000000      2.000000   \n",
            "max     9117.000000  11694.000000   8759.000000    612.000000   8805.000000   \n",
            "\n",
            "          land_sqft      tot_sqft     yr_built     tax_cls_s         price  \\\n",
            "count  8.476800e+04  8.476800e+04  84768.00000  84768.000000  8.476800e+04   \n",
            "mean   2.897186e+03  4.594859e+03   1799.28020      1.820144  1.138515e+06   \n",
            "std    1.051146e+05  4.351070e+04    520.81237      0.961171  8.874043e+06   \n",
            "min    0.000000e+00  0.000000e+00      0.00000      1.000000  0.000000e+00   \n",
            "25%    0.000000e+00  0.000000e+00   1920.00000      1.000000  0.000000e+00   \n",
            "50%    1.650000e+03  9.900000e+02   1940.00000      2.000000  3.500000e+05   \n",
            "75%    2.638250e+03  2.180000e+03   1965.00000      2.000000  7.585960e+05   \n",
            "max    2.930553e+07  8.942176e+06   2016.00000      4.000000  8.700000e+08   \n",
            "\n",
            "               long           lat  \n",
            "count  84768.000000  84768.000000  \n",
            "mean     -73.932756     40.713802  \n",
            "std        0.096322      0.076601  \n",
            "min      -74.253512     40.499018  \n",
            "25%      -73.981860     40.664866  \n",
            "50%      -73.949712     40.721858  \n",
            "75%      -73.864184     40.763282  \n",
            "max      -73.700774     40.912869  \n"
          ]
        }
      ]
    },
    {
      "cell_type": "markdown",
      "metadata": {
        "id": "VVFezFTfiMTy"
      },
      "source": [
        "### 3. Identify Focus/Key columns"
      ]
    },
    {
      "cell_type": "code",
      "metadata": {
        "id": "PsvEDvrAiMTz",
        "outputId": "2ed24180-1ffd-463b-e859-41451c68997f"
      },
      "source": [
        "original_categorical_columns = ['Sale_id','bbl_id', 'borough', 'bldg_ctgy',  'tax_cls_p', 'block', 'lot', 'easmnt', 'bldg_cls_p', 'address', 'apt', 'zip', 'tax_cls_s', 'bldg_cls_s', 'usable']\n",
        "original_numerical_columns = ['year', 'res_unit', 'com_unit', 'tot_unit', 'land_sqft', 'yr_built', 'sale_date', 'price', 'long', 'lat' ]\n",
        "original_columns = np.concatenate((original_categorical_columns, original_numerical_columns), axis=None)\n",
        "print(len(original_columns))\n",
        "\n",
        "# Removed: 'tax_cls_p', 'block', 'easmnt', 'bldg_cls_p', 'usable'\n",
        "key_categorical_columns = ['Sale_id', 'bbl_id', 'borough', 'bldg_ctgy', 'address',  'block', 'lot', 'apt', 'zip', 'tax_cls_s', 'bldg_cls_s']\n",
        "key_numerical_columns =  ['year', 'res_unit', 'com_unit', 'tot_unit', 'land_sqft', 'tot_sqft', 'yr_built', 'sale_date', 'long','lat' ]\n",
        "target_column = ['price']\n",
        "\n",
        "key_columns = np.concatenate((key_categorical_columns, key_numerical_columns, target_column), axis=None)\n",
        "\n",
        "print(key_columns)"
      ],
      "execution_count": null,
      "outputs": [
        {
          "name": "stdout",
          "output_type": "stream",
          "text": [
            "25\n",
            "['Sale_id' 'bbl_id' 'borough' 'bldg_ctgy' 'address' 'block' 'lot' 'apt'\n",
            " 'zip' 'tax_cls_s' 'bldg_cls_s' 'year' 'res_unit' 'com_unit' 'tot_unit'\n",
            " 'land_sqft' 'tot_sqft' 'yr_built' 'sale_date' 'long' 'lat' 'price']\n"
          ]
        }
      ]
    },
    {
      "cell_type": "markdown",
      "metadata": {
        "id": "Nepin77tiMTz"
      },
      "source": [
        "## Data cleansing\n",
        "\n",
        "#### Known issues\n",
        "- [ ] NaNs / Non zero value\n",
        "- [ ] Duplicates - Same property sold twice get recent one if Address && apartment appears twice\n",
        "- [ ] Removing outliers - how can I remove values which doesn make sense e.g. some large proerties sold for $1\n",
        "- [ ] Should I do somekind of clustering e.g. There are properties (land only) without building and build date\n",
        "- [ ] Use built date to find age / But then what happens where there are no building? and no build age ( I could ignore them)?\n",
        "\n",
        "#### Other questions\n",
        "- [ ] how to know which ones are useful?\n",
        "- [ ] how can I clean outliers? should I do some kind of things with the statistics above or just pick a value?\n"
      ]
    },
    {
      "cell_type": "markdown",
      "metadata": {
        "id": "sv5WC-feiMT0"
      },
      "source": [
        "### 1. Prepare dataframe with key columns"
      ]
    },
    {
      "cell_type": "code",
      "metadata": {
        "id": "HUbhI0r7iMT1"
      },
      "source": [
        "## Find out which one might be useful?\n",
        "df2 = df[key_columns].copy()"
      ],
      "execution_count": null,
      "outputs": []
    },
    {
      "cell_type": "code",
      "metadata": {
        "id": "3_ReTdATiMT1",
        "outputId": "3d70fd36-0433-4b9e-8759-4eed2e0bfa3b"
      },
      "source": [
        "print(df2.describe())"
      ],
      "execution_count": null,
      "outputs": [
        {
          "name": "stdout",
          "output_type": "stream",
          "text": [
            "            Sale_id        bbl_id       borough         block           lot  \\\n",
            "count  84768.000000  8.476800e+04  84768.000000  84768.000000  84768.000000   \n",
            "mean   42384.500000  5.552786e+07      2.815968   3922.271812    395.336342   \n",
            "std    24470.558146  1.137808e+08      1.331564   3505.674705    671.917553   \n",
            "min        1.000000  0.000000e+00      1.000000      1.000000      1.000000   \n",
            "25%    21192.750000  1.195860e+06      1.000000   1169.000000     22.000000   \n",
            "50%    42384.500000  4.222320e+06      3.000000   2657.000000     50.000000   \n",
            "75%    63576.250000  4.130948e+07      4.000000   5878.000000   1003.000000   \n",
            "max    84768.000000  5.786011e+08      5.000000  16322.000000   9117.000000   \n",
            "\n",
            "                zip     tax_cls_s     year      res_unit      com_unit  \\\n",
            "count  84768.000000  84768.000000  84768.0  84768.000000  84768.000000   \n",
            "mean   10795.058430      1.820144   2015.0      2.206882      0.213842   \n",
            "std      640.425751      0.961171      0.0     33.803117      3.328458   \n",
            "min        0.000000      1.000000   2015.0      0.000000      0.000000   \n",
            "25%    10065.000000      1.000000   2015.0      0.000000      0.000000   \n",
            "50%    11206.000000      2.000000   2015.0      1.000000      0.000000   \n",
            "75%    11355.000000      2.000000   2015.0      2.000000      0.000000   \n",
            "max    11694.000000      4.000000   2015.0   8759.000000    612.000000   \n",
            "\n",
            "           tot_unit     land_sqft      tot_sqft     yr_built          long  \\\n",
            "count  84768.000000  8.476800e+04  8.476800e+04  84768.00000  84768.000000   \n",
            "mean       2.482894  2.897186e+03  4.594859e+03   1799.28020    -73.932756   \n",
            "std       34.129612  1.051146e+05  4.351070e+04    520.81237      0.096322   \n",
            "min        0.000000  0.000000e+00  0.000000e+00      0.00000    -74.253512   \n",
            "25%        1.000000  0.000000e+00  0.000000e+00   1920.00000    -73.981860   \n",
            "50%        1.000000  1.650000e+03  9.900000e+02   1940.00000    -73.949712   \n",
            "75%        2.000000  2.638250e+03  2.180000e+03   1965.00000    -73.864184   \n",
            "max     8805.000000  2.930553e+07  8.942176e+06   2016.00000    -73.700774   \n",
            "\n",
            "                lat         price  \n",
            "count  84768.000000  8.476800e+04  \n",
            "mean      40.713802  1.138515e+06  \n",
            "std        0.076601  8.874043e+06  \n",
            "min       40.499018  0.000000e+00  \n",
            "25%       40.664866  0.000000e+00  \n",
            "50%       40.721858  3.500000e+05  \n",
            "75%       40.763282  7.585960e+05  \n",
            "max       40.912869  8.700000e+08  \n"
          ]
        }
      ]
    },
    {
      "cell_type": "markdown",
      "metadata": {
        "id": "WlmvkJh4iMT1"
      },
      "source": [
        "#### 1. Create additional columns"
      ]
    },
    {
      "cell_type": "code",
      "metadata": {
        "id": "rm6MtqGKiMT2"
      },
      "source": [
        "# Create Age column\n",
        "df2[\"age\"] = df[\"yr_built\"].apply(lambda x : (2015 - x))"
      ],
      "execution_count": null,
      "outputs": []
    },
    {
      "cell_type": "code",
      "metadata": {
        "id": "TkrKKbYwiMT2"
      },
      "source": [
        "# Create sales_datestamp column\n",
        "df2['sale_datestamp'] = pd.to_datetime(df2['sale_date'])"
      ],
      "execution_count": null,
      "outputs": []
    },
    {
      "cell_type": "code",
      "metadata": {
        "id": "hylOS4BniMT2"
      },
      "source": [
        "df2['gross_sqft'] = df2['tot_sqft'] + df2['land_sqft']"
      ],
      "execution_count": null,
      "outputs": []
    },
    {
      "cell_type": "code",
      "metadata": {
        "id": "O7dkaRVJiMT3",
        "outputId": "374b7e0c-7dda-49ae-8b7f-5af1cdac2b27"
      },
      "source": [
        "# Update key columns\n",
        "key_numerical_columns = np.concatenate((key_numerical_columns, ['age', 'sale_datestamp', 'gross_sqft']))\n",
        "key_columns = np.concatenate((key_categorical_columns, key_numerical_columns, target_column), axis=None)\n",
        "\n",
        "print(key_columns)\n",
        "df2.head()"
      ],
      "execution_count": null,
      "outputs": [
        {
          "name": "stdout",
          "output_type": "stream",
          "text": [
            "['Sale_id' 'bbl_id' 'borough' 'bldg_ctgy' 'address' 'block' 'lot' 'apt'\n",
            " 'zip' 'tax_cls_s' 'bldg_cls_s' 'year' 'res_unit' 'com_unit' 'tot_unit'\n",
            " 'land_sqft' 'tot_sqft' 'yr_built' 'sale_date' 'long' 'lat' 'age'\n",
            " 'sale_datestamp' 'gross_sqft' 'price']\n"
          ]
        },
        {
          "data": {
            "text/html": [
              "<div>\n",
              "<style scoped>\n",
              "    .dataframe tbody tr th:only-of-type {\n",
              "        vertical-align: middle;\n",
              "    }\n",
              "\n",
              "    .dataframe tbody tr th {\n",
              "        vertical-align: top;\n",
              "    }\n",
              "\n",
              "    .dataframe thead th {\n",
              "        text-align: right;\n",
              "    }\n",
              "</style>\n",
              "<table border=\"1\" class=\"dataframe\">\n",
              "  <thead>\n",
              "    <tr style=\"text-align: right;\">\n",
              "      <th></th>\n",
              "      <th>Sale_id</th>\n",
              "      <th>bbl_id</th>\n",
              "      <th>borough</th>\n",
              "      <th>bldg_ctgy</th>\n",
              "      <th>address</th>\n",
              "      <th>block</th>\n",
              "      <th>lot</th>\n",
              "      <th>apt</th>\n",
              "      <th>zip</th>\n",
              "      <th>tax_cls_s</th>\n",
              "      <th>...</th>\n",
              "      <th>land_sqft</th>\n",
              "      <th>tot_sqft</th>\n",
              "      <th>yr_built</th>\n",
              "      <th>sale_date</th>\n",
              "      <th>long</th>\n",
              "      <th>lat</th>\n",
              "      <th>price</th>\n",
              "      <th>age</th>\n",
              "      <th>sale_datestamp</th>\n",
              "      <th>gross_sqft</th>\n",
              "    </tr>\n",
              "  </thead>\n",
              "  <tbody>\n",
              "    <tr>\n",
              "      <th>0</th>\n",
              "      <td>1</td>\n",
              "      <td>2290528</td>\n",
              "      <td>2</td>\n",
              "      <td>01  ONE FAMILY DWELLINGS</td>\n",
              "      <td>1665 WASHINGTON AVENUE</td>\n",
              "      <td>2905</td>\n",
              "      <td>28</td>\n",
              "      <td>NaN</td>\n",
              "      <td>10457</td>\n",
              "      <td>1</td>\n",
              "      <td>...</td>\n",
              "      <td>4750</td>\n",
              "      <td>2619</td>\n",
              "      <td>1899</td>\n",
              "      <td>08-07-15</td>\n",
              "      <td>-73.901338</td>\n",
              "      <td>40.841229</td>\n",
              "      <td>0</td>\n",
              "      <td>116</td>\n",
              "      <td>2015-08-07</td>\n",
              "      <td>7369</td>\n",
              "    </tr>\n",
              "    <tr>\n",
              "      <th>1</th>\n",
              "      <td>2</td>\n",
              "      <td>2290528</td>\n",
              "      <td>2</td>\n",
              "      <td>01  ONE FAMILY DWELLINGS</td>\n",
              "      <td>1665 WASHINGTON AVENUE</td>\n",
              "      <td>2905</td>\n",
              "      <td>28</td>\n",
              "      <td>NaN</td>\n",
              "      <td>10457</td>\n",
              "      <td>1</td>\n",
              "      <td>...</td>\n",
              "      <td>4750</td>\n",
              "      <td>2619</td>\n",
              "      <td>1899</td>\n",
              "      <td>08-07-15</td>\n",
              "      <td>-73.901338</td>\n",
              "      <td>40.841229</td>\n",
              "      <td>0</td>\n",
              "      <td>116</td>\n",
              "      <td>2015-08-07</td>\n",
              "      <td>7369</td>\n",
              "    </tr>\n",
              "    <tr>\n",
              "      <th>2</th>\n",
              "      <td>3</td>\n",
              "      <td>230352</td>\n",
              "      <td>2</td>\n",
              "      <td>01  ONE FAMILY DWELLINGS</td>\n",
              "      <td>441 EAST 178 STREET</td>\n",
              "      <td>3035</td>\n",
              "      <td>2</td>\n",
              "      <td>NaN</td>\n",
              "      <td>10457</td>\n",
              "      <td>1</td>\n",
              "      <td>...</td>\n",
              "      <td>1287</td>\n",
              "      <td>2528</td>\n",
              "      <td>1899</td>\n",
              "      <td>12/18/2015</td>\n",
              "      <td>-73.898331</td>\n",
              "      <td>40.848648</td>\n",
              "      <td>0</td>\n",
              "      <td>116</td>\n",
              "      <td>2015-12-18</td>\n",
              "      <td>3815</td>\n",
              "    </tr>\n",
              "    <tr>\n",
              "      <th>3</th>\n",
              "      <td>4</td>\n",
              "      <td>2303936</td>\n",
              "      <td>2</td>\n",
              "      <td>01  ONE FAMILY DWELLINGS</td>\n",
              "      <td>455 EAST 184 STREET</td>\n",
              "      <td>3039</td>\n",
              "      <td>36</td>\n",
              "      <td>NaN</td>\n",
              "      <td>10458</td>\n",
              "      <td>1</td>\n",
              "      <td>...</td>\n",
              "      <td>2500</td>\n",
              "      <td>2452</td>\n",
              "      <td>1910</td>\n",
              "      <td>08/18/2015</td>\n",
              "      <td>-73.893338</td>\n",
              "      <td>40.856136</td>\n",
              "      <td>0</td>\n",
              "      <td>105</td>\n",
              "      <td>2015-08-18</td>\n",
              "      <td>4952</td>\n",
              "    </tr>\n",
              "    <tr>\n",
              "      <th>4</th>\n",
              "      <td>5</td>\n",
              "      <td>2303936</td>\n",
              "      <td>2</td>\n",
              "      <td>01  ONE FAMILY DWELLINGS</td>\n",
              "      <td>455 EAST 184 STREET</td>\n",
              "      <td>3039</td>\n",
              "      <td>36</td>\n",
              "      <td>NaN</td>\n",
              "      <td>10458</td>\n",
              "      <td>1</td>\n",
              "      <td>...</td>\n",
              "      <td>2500</td>\n",
              "      <td>2452</td>\n",
              "      <td>1910</td>\n",
              "      <td>07-01-15</td>\n",
              "      <td>-73.893338</td>\n",
              "      <td>40.856136</td>\n",
              "      <td>400000</td>\n",
              "      <td>105</td>\n",
              "      <td>2015-07-01</td>\n",
              "      <td>4952</td>\n",
              "    </tr>\n",
              "  </tbody>\n",
              "</table>\n",
              "<p>5 rows × 25 columns</p>\n",
              "</div>"
            ],
            "text/plain": [
              "   Sale_id   bbl_id  borough                 bldg_ctgy  \\\n",
              "0        1  2290528        2  01  ONE FAMILY DWELLINGS   \n",
              "1        2  2290528        2  01  ONE FAMILY DWELLINGS   \n",
              "2        3   230352        2  01  ONE FAMILY DWELLINGS   \n",
              "3        4  2303936        2  01  ONE FAMILY DWELLINGS   \n",
              "4        5  2303936        2  01  ONE FAMILY DWELLINGS   \n",
              "\n",
              "                  address  block  lot  apt    zip  tax_cls_s  ... land_sqft  \\\n",
              "0  1665 WASHINGTON AVENUE   2905   28  NaN  10457          1  ...      4750   \n",
              "1  1665 WASHINGTON AVENUE   2905   28  NaN  10457          1  ...      4750   \n",
              "2     441 EAST 178 STREET   3035    2  NaN  10457          1  ...      1287   \n",
              "3     455 EAST 184 STREET   3039   36  NaN  10458          1  ...      2500   \n",
              "4     455 EAST 184 STREET   3039   36  NaN  10458          1  ...      2500   \n",
              "\n",
              "   tot_sqft  yr_built   sale_date       long        lat   price  age  \\\n",
              "0      2619      1899    08-07-15 -73.901338  40.841229       0  116   \n",
              "1      2619      1899    08-07-15 -73.901338  40.841229       0  116   \n",
              "2      2528      1899  12/18/2015 -73.898331  40.848648       0  116   \n",
              "3      2452      1910  08/18/2015 -73.893338  40.856136       0  105   \n",
              "4      2452      1910    07-01-15 -73.893338  40.856136  400000  105   \n",
              "\n",
              "  sale_datestamp  gross_sqft  \n",
              "0     2015-08-07        7369  \n",
              "1     2015-08-07        7369  \n",
              "2     2015-12-18        3815  \n",
              "3     2015-08-18        4952  \n",
              "4     2015-07-01        4952  \n",
              "\n",
              "[5 rows x 25 columns]"
            ]
          },
          "execution_count": 13,
          "metadata": {},
          "output_type": "execute_result"
        }
      ]
    },
    {
      "cell_type": "markdown",
      "metadata": {
        "id": "2Sl0VZEziMT3"
      },
      "source": [
        "#### 2. Format columns"
      ]
    },
    {
      "cell_type": "code",
      "metadata": {
        "id": "cMdtwRERiMT3",
        "outputId": "a72bbd6d-fcf6-47c3-8ade-17de245fda18"
      },
      "source": [
        "df2.fillna('', inplace=True)\n",
        "\n",
        "# For apt only Replace None for apt with ''\n",
        "df2.apt.replace(np.nan, '', regex=True)\n",
        "\n",
        "df2.address = df2.address.apply(str)\n",
        "df2.apt = df2.apt.apply(str)\n",
        "\n",
        "df2.info()\n",
        "df2.head()"
      ],
      "execution_count": null,
      "outputs": [
        {
          "name": "stdout",
          "output_type": "stream",
          "text": [
            "<class 'pandas.core.frame.DataFrame'>\n",
            "Int64Index: 84768 entries, 0 to 84767\n",
            "Data columns (total 25 columns):\n",
            " #   Column          Non-Null Count  Dtype         \n",
            "---  ------          --------------  -----         \n",
            " 0   Sale_id         84768 non-null  int64         \n",
            " 1   bbl_id          84768 non-null  int64         \n",
            " 2   borough         84768 non-null  int64         \n",
            " 3   bldg_ctgy       84768 non-null  object        \n",
            " 4   address         84768 non-null  object        \n",
            " 5   block           84768 non-null  int64         \n",
            " 6   lot             84768 non-null  int64         \n",
            " 7   apt             84768 non-null  object        \n",
            " 8   zip             84768 non-null  int64         \n",
            " 9   tax_cls_s       84768 non-null  int64         \n",
            " 10  bldg_cls_s      84768 non-null  object        \n",
            " 11  year            84768 non-null  int64         \n",
            " 12  res_unit        84768 non-null  int64         \n",
            " 13  com_unit        84768 non-null  int64         \n",
            " 14  tot_unit        84768 non-null  int64         \n",
            " 15  land_sqft       84768 non-null  int64         \n",
            " 16  tot_sqft        84768 non-null  int64         \n",
            " 17  yr_built        84768 non-null  int64         \n",
            " 18  sale_date       84768 non-null  object        \n",
            " 19  long            84768 non-null  float64       \n",
            " 20  lat             84768 non-null  float64       \n",
            " 21  price           84768 non-null  int64         \n",
            " 22  age             84768 non-null  int64         \n",
            " 23  sale_datestamp  84768 non-null  datetime64[ns]\n",
            " 24  gross_sqft      84768 non-null  int64         \n",
            "dtypes: datetime64[ns](1), float64(2), int64(17), object(5)\n",
            "memory usage: 16.8+ MB\n"
          ]
        },
        {
          "data": {
            "text/html": [
              "<div>\n",
              "<style scoped>\n",
              "    .dataframe tbody tr th:only-of-type {\n",
              "        vertical-align: middle;\n",
              "    }\n",
              "\n",
              "    .dataframe tbody tr th {\n",
              "        vertical-align: top;\n",
              "    }\n",
              "\n",
              "    .dataframe thead th {\n",
              "        text-align: right;\n",
              "    }\n",
              "</style>\n",
              "<table border=\"1\" class=\"dataframe\">\n",
              "  <thead>\n",
              "    <tr style=\"text-align: right;\">\n",
              "      <th></th>\n",
              "      <th>Sale_id</th>\n",
              "      <th>bbl_id</th>\n",
              "      <th>borough</th>\n",
              "      <th>bldg_ctgy</th>\n",
              "      <th>address</th>\n",
              "      <th>block</th>\n",
              "      <th>lot</th>\n",
              "      <th>apt</th>\n",
              "      <th>zip</th>\n",
              "      <th>tax_cls_s</th>\n",
              "      <th>...</th>\n",
              "      <th>land_sqft</th>\n",
              "      <th>tot_sqft</th>\n",
              "      <th>yr_built</th>\n",
              "      <th>sale_date</th>\n",
              "      <th>long</th>\n",
              "      <th>lat</th>\n",
              "      <th>price</th>\n",
              "      <th>age</th>\n",
              "      <th>sale_datestamp</th>\n",
              "      <th>gross_sqft</th>\n",
              "    </tr>\n",
              "  </thead>\n",
              "  <tbody>\n",
              "    <tr>\n",
              "      <th>0</th>\n",
              "      <td>1</td>\n",
              "      <td>2290528</td>\n",
              "      <td>2</td>\n",
              "      <td>01  ONE FAMILY DWELLINGS</td>\n",
              "      <td>1665 WASHINGTON AVENUE</td>\n",
              "      <td>2905</td>\n",
              "      <td>28</td>\n",
              "      <td></td>\n",
              "      <td>10457</td>\n",
              "      <td>1</td>\n",
              "      <td>...</td>\n",
              "      <td>4750</td>\n",
              "      <td>2619</td>\n",
              "      <td>1899</td>\n",
              "      <td>08-07-15</td>\n",
              "      <td>-73.901338</td>\n",
              "      <td>40.841229</td>\n",
              "      <td>0</td>\n",
              "      <td>116</td>\n",
              "      <td>2015-08-07</td>\n",
              "      <td>7369</td>\n",
              "    </tr>\n",
              "    <tr>\n",
              "      <th>1</th>\n",
              "      <td>2</td>\n",
              "      <td>2290528</td>\n",
              "      <td>2</td>\n",
              "      <td>01  ONE FAMILY DWELLINGS</td>\n",
              "      <td>1665 WASHINGTON AVENUE</td>\n",
              "      <td>2905</td>\n",
              "      <td>28</td>\n",
              "      <td></td>\n",
              "      <td>10457</td>\n",
              "      <td>1</td>\n",
              "      <td>...</td>\n",
              "      <td>4750</td>\n",
              "      <td>2619</td>\n",
              "      <td>1899</td>\n",
              "      <td>08-07-15</td>\n",
              "      <td>-73.901338</td>\n",
              "      <td>40.841229</td>\n",
              "      <td>0</td>\n",
              "      <td>116</td>\n",
              "      <td>2015-08-07</td>\n",
              "      <td>7369</td>\n",
              "    </tr>\n",
              "    <tr>\n",
              "      <th>2</th>\n",
              "      <td>3</td>\n",
              "      <td>230352</td>\n",
              "      <td>2</td>\n",
              "      <td>01  ONE FAMILY DWELLINGS</td>\n",
              "      <td>441 EAST 178 STREET</td>\n",
              "      <td>3035</td>\n",
              "      <td>2</td>\n",
              "      <td></td>\n",
              "      <td>10457</td>\n",
              "      <td>1</td>\n",
              "      <td>...</td>\n",
              "      <td>1287</td>\n",
              "      <td>2528</td>\n",
              "      <td>1899</td>\n",
              "      <td>12/18/2015</td>\n",
              "      <td>-73.898331</td>\n",
              "      <td>40.848648</td>\n",
              "      <td>0</td>\n",
              "      <td>116</td>\n",
              "      <td>2015-12-18</td>\n",
              "      <td>3815</td>\n",
              "    </tr>\n",
              "    <tr>\n",
              "      <th>3</th>\n",
              "      <td>4</td>\n",
              "      <td>2303936</td>\n",
              "      <td>2</td>\n",
              "      <td>01  ONE FAMILY DWELLINGS</td>\n",
              "      <td>455 EAST 184 STREET</td>\n",
              "      <td>3039</td>\n",
              "      <td>36</td>\n",
              "      <td></td>\n",
              "      <td>10458</td>\n",
              "      <td>1</td>\n",
              "      <td>...</td>\n",
              "      <td>2500</td>\n",
              "      <td>2452</td>\n",
              "      <td>1910</td>\n",
              "      <td>08/18/2015</td>\n",
              "      <td>-73.893338</td>\n",
              "      <td>40.856136</td>\n",
              "      <td>0</td>\n",
              "      <td>105</td>\n",
              "      <td>2015-08-18</td>\n",
              "      <td>4952</td>\n",
              "    </tr>\n",
              "    <tr>\n",
              "      <th>4</th>\n",
              "      <td>5</td>\n",
              "      <td>2303936</td>\n",
              "      <td>2</td>\n",
              "      <td>01  ONE FAMILY DWELLINGS</td>\n",
              "      <td>455 EAST 184 STREET</td>\n",
              "      <td>3039</td>\n",
              "      <td>36</td>\n",
              "      <td></td>\n",
              "      <td>10458</td>\n",
              "      <td>1</td>\n",
              "      <td>...</td>\n",
              "      <td>2500</td>\n",
              "      <td>2452</td>\n",
              "      <td>1910</td>\n",
              "      <td>07-01-15</td>\n",
              "      <td>-73.893338</td>\n",
              "      <td>40.856136</td>\n",
              "      <td>400000</td>\n",
              "      <td>105</td>\n",
              "      <td>2015-07-01</td>\n",
              "      <td>4952</td>\n",
              "    </tr>\n",
              "  </tbody>\n",
              "</table>\n",
              "<p>5 rows × 25 columns</p>\n",
              "</div>"
            ],
            "text/plain": [
              "   Sale_id   bbl_id  borough                 bldg_ctgy  \\\n",
              "0        1  2290528        2  01  ONE FAMILY DWELLINGS   \n",
              "1        2  2290528        2  01  ONE FAMILY DWELLINGS   \n",
              "2        3   230352        2  01  ONE FAMILY DWELLINGS   \n",
              "3        4  2303936        2  01  ONE FAMILY DWELLINGS   \n",
              "4        5  2303936        2  01  ONE FAMILY DWELLINGS   \n",
              "\n",
              "                  address  block  lot apt    zip  tax_cls_s  ... land_sqft  \\\n",
              "0  1665 WASHINGTON AVENUE   2905   28      10457          1  ...      4750   \n",
              "1  1665 WASHINGTON AVENUE   2905   28      10457          1  ...      4750   \n",
              "2     441 EAST 178 STREET   3035    2      10457          1  ...      1287   \n",
              "3     455 EAST 184 STREET   3039   36      10458          1  ...      2500   \n",
              "4     455 EAST 184 STREET   3039   36      10458          1  ...      2500   \n",
              "\n",
              "   tot_sqft  yr_built   sale_date       long        lat   price  age  \\\n",
              "0      2619      1899    08-07-15 -73.901338  40.841229       0  116   \n",
              "1      2619      1899    08-07-15 -73.901338  40.841229       0  116   \n",
              "2      2528      1899  12/18/2015 -73.898331  40.848648       0  116   \n",
              "3      2452      1910  08/18/2015 -73.893338  40.856136       0  105   \n",
              "4      2452      1910    07-01-15 -73.893338  40.856136  400000  105   \n",
              "\n",
              "  sale_datestamp  gross_sqft  \n",
              "0     2015-08-07        7369  \n",
              "1     2015-08-07        7369  \n",
              "2     2015-12-18        3815  \n",
              "3     2015-08-18        4952  \n",
              "4     2015-07-01        4952  \n",
              "\n",
              "[5 rows x 25 columns]"
            ]
          },
          "execution_count": 14,
          "metadata": {},
          "output_type": "execute_result"
        }
      ]
    },
    {
      "cell_type": "markdown",
      "metadata": {
        "id": "R6K1rHcBiMT4"
      },
      "source": [
        "#### 3. Remove invalid values\n",
        "First, we do some basic cleaning, that is removing NaN and zero-values."
      ]
    },
    {
      "cell_type": "code",
      "metadata": {
        "id": "EgwiGrmoiMT4",
        "outputId": "a99e99d5-2f3a-45f6-94a0-186dd59ec090"
      },
      "source": [
        "# Checking for NaN values\n",
        "df2.isna().sum().sort_values(ascending=False)"
      ],
      "execution_count": null,
      "outputs": [
        {
          "data": {
            "text/plain": [
              "gross_sqft        0\n",
              "year              0\n",
              "bbl_id            0\n",
              "borough           0\n",
              "bldg_ctgy         0\n",
              "address           0\n",
              "block             0\n",
              "lot               0\n",
              "apt               0\n",
              "zip               0\n",
              "tax_cls_s         0\n",
              "bldg_cls_s        0\n",
              "res_unit          0\n",
              "sale_datestamp    0\n",
              "com_unit          0\n",
              "tot_unit          0\n",
              "land_sqft         0\n",
              "tot_sqft          0\n",
              "yr_built          0\n",
              "sale_date         0\n",
              "long              0\n",
              "lat               0\n",
              "price             0\n",
              "age               0\n",
              "Sale_id           0\n",
              "dtype: int64"
            ]
          },
          "execution_count": 15,
          "metadata": {},
          "output_type": "execute_result"
        }
      ]
    },
    {
      "cell_type": "markdown",
      "metadata": {
        "id": "GTHvViQAiMT5"
      },
      "source": [
        "We are going to fit a simple linear regression model on the data, using the property age and total area as independent and price as dependent variable. "
      ]
    },
    {
      "cell_type": "markdown",
      "metadata": {
        "id": "_07oxItxiMT5"
      },
      "source": [
        "##### 3.1. Remove properties without a price"
      ]
    },
    {
      "cell_type": "code",
      "metadata": {
        "scrolled": true,
        "id": "sDhk4z2kiMT5",
        "outputId": "817a790a-2fe6-4663-d942-def00d33ec2c"
      },
      "source": [
        "# We also don't want any attibute to be 0, which is presumably a missing entry\n",
        "print(\"Entries with incorrect price: \",len(df2[df2.price == 0]))\n",
        "print(\"Original dataset length: \",len(df2))\n",
        "\n",
        "df2 = df2[(df2.price != 0)]\n",
        "df2.to_csv('valid_price.csv')\n",
        "print(\"Cleaned dataset length: \", len(df2))\n",
        "df2.head()"
      ],
      "execution_count": null,
      "outputs": [
        {
          "name": "stdout",
          "output_type": "stream",
          "text": [
            "Entries with incorrect price:  24118\n",
            "Original dataset length:  84768\n",
            "Cleaned dataset length:  60650\n"
          ]
        },
        {
          "data": {
            "text/html": [
              "<div>\n",
              "<style scoped>\n",
              "    .dataframe tbody tr th:only-of-type {\n",
              "        vertical-align: middle;\n",
              "    }\n",
              "\n",
              "    .dataframe tbody tr th {\n",
              "        vertical-align: top;\n",
              "    }\n",
              "\n",
              "    .dataframe thead th {\n",
              "        text-align: right;\n",
              "    }\n",
              "</style>\n",
              "<table border=\"1\" class=\"dataframe\">\n",
              "  <thead>\n",
              "    <tr style=\"text-align: right;\">\n",
              "      <th></th>\n",
              "      <th>Sale_id</th>\n",
              "      <th>bbl_id</th>\n",
              "      <th>borough</th>\n",
              "      <th>bldg_ctgy</th>\n",
              "      <th>address</th>\n",
              "      <th>block</th>\n",
              "      <th>lot</th>\n",
              "      <th>apt</th>\n",
              "      <th>zip</th>\n",
              "      <th>tax_cls_s</th>\n",
              "      <th>...</th>\n",
              "      <th>land_sqft</th>\n",
              "      <th>tot_sqft</th>\n",
              "      <th>yr_built</th>\n",
              "      <th>sale_date</th>\n",
              "      <th>long</th>\n",
              "      <th>lat</th>\n",
              "      <th>price</th>\n",
              "      <th>age</th>\n",
              "      <th>sale_datestamp</th>\n",
              "      <th>gross_sqft</th>\n",
              "    </tr>\n",
              "  </thead>\n",
              "  <tbody>\n",
              "    <tr>\n",
              "      <th>4</th>\n",
              "      <td>5</td>\n",
              "      <td>2303936</td>\n",
              "      <td>2</td>\n",
              "      <td>01  ONE FAMILY DWELLINGS</td>\n",
              "      <td>455 EAST 184 STREET</td>\n",
              "      <td>3039</td>\n",
              "      <td>36</td>\n",
              "      <td></td>\n",
              "      <td>10458</td>\n",
              "      <td>1</td>\n",
              "      <td>...</td>\n",
              "      <td>2500</td>\n",
              "      <td>2452</td>\n",
              "      <td>1910</td>\n",
              "      <td>07-01-15</td>\n",
              "      <td>-73.893338</td>\n",
              "      <td>40.856136</td>\n",
              "      <td>400000</td>\n",
              "      <td>105</td>\n",
              "      <td>2015-07-01</td>\n",
              "      <td>4952</td>\n",
              "    </tr>\n",
              "    <tr>\n",
              "      <th>7</th>\n",
              "      <td>8</td>\n",
              "      <td>22912139</td>\n",
              "      <td>2</td>\n",
              "      <td>02  TWO FAMILY DWELLINGS</td>\n",
              "      <td>3823 3 AVENUE</td>\n",
              "      <td>2912</td>\n",
              "      <td>139</td>\n",
              "      <td></td>\n",
              "      <td>10457</td>\n",
              "      <td>1</td>\n",
              "      <td>...</td>\n",
              "      <td>2000</td>\n",
              "      <td>2400</td>\n",
              "      <td>1993</td>\n",
              "      <td>08-04-15</td>\n",
              "      <td>-73.901430</td>\n",
              "      <td>40.837883</td>\n",
              "      <td>430000</td>\n",
              "      <td>22</td>\n",
              "      <td>2015-08-04</td>\n",
              "      <td>4400</td>\n",
              "    </tr>\n",
              "    <tr>\n",
              "      <th>8</th>\n",
              "      <td>9</td>\n",
              "      <td>22912152</td>\n",
              "      <td>2</td>\n",
              "      <td>02  TWO FAMILY DWELLINGS</td>\n",
              "      <td>517 EAST 171 STREET</td>\n",
              "      <td>2912</td>\n",
              "      <td>152</td>\n",
              "      <td></td>\n",
              "      <td>10457</td>\n",
              "      <td>1</td>\n",
              "      <td>...</td>\n",
              "      <td>2000</td>\n",
              "      <td>2400</td>\n",
              "      <td>1993</td>\n",
              "      <td>06-02-15</td>\n",
              "      <td>-73.902418</td>\n",
              "      <td>40.837337</td>\n",
              "      <td>10000</td>\n",
              "      <td>22</td>\n",
              "      <td>2015-06-02</td>\n",
              "      <td>4400</td>\n",
              "    </tr>\n",
              "    <tr>\n",
              "      <th>9</th>\n",
              "      <td>10</td>\n",
              "      <td>22929126</td>\n",
              "      <td>2</td>\n",
              "      <td>02  TWO FAMILY DWELLINGS</td>\n",
              "      <td>1557 FULTON AVENUE</td>\n",
              "      <td>2929</td>\n",
              "      <td>126</td>\n",
              "      <td></td>\n",
              "      <td>10457</td>\n",
              "      <td>1</td>\n",
              "      <td>...</td>\n",
              "      <td>3165</td>\n",
              "      <td>2394</td>\n",
              "      <td>1995</td>\n",
              "      <td>08-05-15</td>\n",
              "      <td>-73.899782</td>\n",
              "      <td>40.838008</td>\n",
              "      <td>505000</td>\n",
              "      <td>20</td>\n",
              "      <td>2015-08-05</td>\n",
              "      <td>5559</td>\n",
              "    </tr>\n",
              "    <tr>\n",
              "      <th>10</th>\n",
              "      <td>11</td>\n",
              "      <td>23030151</td>\n",
              "      <td>2</td>\n",
              "      <td>02  TWO FAMILY DWELLINGS</td>\n",
              "      <td>2264 WEBSTER AVENUE</td>\n",
              "      <td>3030</td>\n",
              "      <td>151</td>\n",
              "      <td></td>\n",
              "      <td>10457</td>\n",
              "      <td>1</td>\n",
              "      <td>...</td>\n",
              "      <td>1620</td>\n",
              "      <td>3240</td>\n",
              "      <td>1931</td>\n",
              "      <td>09/28/2015</td>\n",
              "      <td>-73.895833</td>\n",
              "      <td>40.855842</td>\n",
              "      <td>490000</td>\n",
              "      <td>84</td>\n",
              "      <td>2015-09-28</td>\n",
              "      <td>4860</td>\n",
              "    </tr>\n",
              "  </tbody>\n",
              "</table>\n",
              "<p>5 rows × 25 columns</p>\n",
              "</div>"
            ],
            "text/plain": [
              "    Sale_id    bbl_id  borough                 bldg_ctgy              address  \\\n",
              "4         5   2303936        2  01  ONE FAMILY DWELLINGS  455 EAST 184 STREET   \n",
              "7         8  22912139        2  02  TWO FAMILY DWELLINGS        3823 3 AVENUE   \n",
              "8         9  22912152        2  02  TWO FAMILY DWELLINGS  517 EAST 171 STREET   \n",
              "9        10  22929126        2  02  TWO FAMILY DWELLINGS   1557 FULTON AVENUE   \n",
              "10       11  23030151        2  02  TWO FAMILY DWELLINGS  2264 WEBSTER AVENUE   \n",
              "\n",
              "    block  lot apt    zip  tax_cls_s  ... land_sqft  tot_sqft  yr_built  \\\n",
              "4    3039   36      10458          1  ...      2500      2452      1910   \n",
              "7    2912  139      10457          1  ...      2000      2400      1993   \n",
              "8    2912  152      10457          1  ...      2000      2400      1993   \n",
              "9    2929  126      10457          1  ...      3165      2394      1995   \n",
              "10   3030  151      10457          1  ...      1620      3240      1931   \n",
              "\n",
              "     sale_date       long        lat   price  age sale_datestamp  gross_sqft  \n",
              "4     07-01-15 -73.893338  40.856136  400000  105     2015-07-01        4952  \n",
              "7     08-04-15 -73.901430  40.837883  430000   22     2015-08-04        4400  \n",
              "8     06-02-15 -73.902418  40.837337   10000   22     2015-06-02        4400  \n",
              "9     08-05-15 -73.899782  40.838008  505000   20     2015-08-05        5559  \n",
              "10  09/28/2015 -73.895833  40.855842  490000   84     2015-09-28        4860  \n",
              "\n",
              "[5 rows x 25 columns]"
            ]
          },
          "execution_count": 16,
          "metadata": {},
          "output_type": "execute_result"
        }
      ]
    },
    {
      "cell_type": "markdown",
      "metadata": {
        "id": "NT_MEF5WiMT5"
      },
      "source": [
        "##### 3.2. Remove properties without a year"
      ]
    },
    {
      "cell_type": "markdown",
      "metadata": {
        "id": "mS9iPCjNiMT6"
      },
      "source": [
        "When doing so it will remove Lands - because lands doesn't have property"
      ]
    },
    {
      "cell_type": "code",
      "metadata": {
        "scrolled": true,
        "id": "m98g51K_iMT6",
        "outputId": "55df0007-5b05-4467-ab6f-3cc9df0b6661"
      },
      "source": [
        "# We also don't want any attibute to be 0, which is presumably a missing entry\n",
        "print(\"Entries with incorrect year: \", len(df2[df2.yr_built == 0]))\n",
        "print(\"Original dataset length: \",len(df2))\n",
        "\n",
        "df2 = df2[(df2.yr_built != 0)]\n",
        "df2.to_csv('valid_price.csv')\n",
        "print(\"Cleaned dataset length: \", len(df2))\n",
        "\n",
        "df2.head()"
      ],
      "execution_count": null,
      "outputs": [
        {
          "name": "stdout",
          "output_type": "stream",
          "text": [
            "Entries with incorrect year:  3772\n",
            "Original dataset length:  60650\n",
            "Cleaned dataset length:  56878\n"
          ]
        },
        {
          "data": {
            "text/html": [
              "<div>\n",
              "<style scoped>\n",
              "    .dataframe tbody tr th:only-of-type {\n",
              "        vertical-align: middle;\n",
              "    }\n",
              "\n",
              "    .dataframe tbody tr th {\n",
              "        vertical-align: top;\n",
              "    }\n",
              "\n",
              "    .dataframe thead th {\n",
              "        text-align: right;\n",
              "    }\n",
              "</style>\n",
              "<table border=\"1\" class=\"dataframe\">\n",
              "  <thead>\n",
              "    <tr style=\"text-align: right;\">\n",
              "      <th></th>\n",
              "      <th>Sale_id</th>\n",
              "      <th>bbl_id</th>\n",
              "      <th>borough</th>\n",
              "      <th>bldg_ctgy</th>\n",
              "      <th>address</th>\n",
              "      <th>block</th>\n",
              "      <th>lot</th>\n",
              "      <th>apt</th>\n",
              "      <th>zip</th>\n",
              "      <th>tax_cls_s</th>\n",
              "      <th>...</th>\n",
              "      <th>land_sqft</th>\n",
              "      <th>tot_sqft</th>\n",
              "      <th>yr_built</th>\n",
              "      <th>sale_date</th>\n",
              "      <th>long</th>\n",
              "      <th>lat</th>\n",
              "      <th>price</th>\n",
              "      <th>age</th>\n",
              "      <th>sale_datestamp</th>\n",
              "      <th>gross_sqft</th>\n",
              "    </tr>\n",
              "  </thead>\n",
              "  <tbody>\n",
              "    <tr>\n",
              "      <th>4</th>\n",
              "      <td>5</td>\n",
              "      <td>2303936</td>\n",
              "      <td>2</td>\n",
              "      <td>01  ONE FAMILY DWELLINGS</td>\n",
              "      <td>455 EAST 184 STREET</td>\n",
              "      <td>3039</td>\n",
              "      <td>36</td>\n",
              "      <td></td>\n",
              "      <td>10458</td>\n",
              "      <td>1</td>\n",
              "      <td>...</td>\n",
              "      <td>2500</td>\n",
              "      <td>2452</td>\n",
              "      <td>1910</td>\n",
              "      <td>07-01-15</td>\n",
              "      <td>-73.893338</td>\n",
              "      <td>40.856136</td>\n",
              "      <td>400000</td>\n",
              "      <td>105</td>\n",
              "      <td>2015-07-01</td>\n",
              "      <td>4952</td>\n",
              "    </tr>\n",
              "    <tr>\n",
              "      <th>7</th>\n",
              "      <td>8</td>\n",
              "      <td>22912139</td>\n",
              "      <td>2</td>\n",
              "      <td>02  TWO FAMILY DWELLINGS</td>\n",
              "      <td>3823 3 AVENUE</td>\n",
              "      <td>2912</td>\n",
              "      <td>139</td>\n",
              "      <td></td>\n",
              "      <td>10457</td>\n",
              "      <td>1</td>\n",
              "      <td>...</td>\n",
              "      <td>2000</td>\n",
              "      <td>2400</td>\n",
              "      <td>1993</td>\n",
              "      <td>08-04-15</td>\n",
              "      <td>-73.901430</td>\n",
              "      <td>40.837883</td>\n",
              "      <td>430000</td>\n",
              "      <td>22</td>\n",
              "      <td>2015-08-04</td>\n",
              "      <td>4400</td>\n",
              "    </tr>\n",
              "    <tr>\n",
              "      <th>8</th>\n",
              "      <td>9</td>\n",
              "      <td>22912152</td>\n",
              "      <td>2</td>\n",
              "      <td>02  TWO FAMILY DWELLINGS</td>\n",
              "      <td>517 EAST 171 STREET</td>\n",
              "      <td>2912</td>\n",
              "      <td>152</td>\n",
              "      <td></td>\n",
              "      <td>10457</td>\n",
              "      <td>1</td>\n",
              "      <td>...</td>\n",
              "      <td>2000</td>\n",
              "      <td>2400</td>\n",
              "      <td>1993</td>\n",
              "      <td>06-02-15</td>\n",
              "      <td>-73.902418</td>\n",
              "      <td>40.837337</td>\n",
              "      <td>10000</td>\n",
              "      <td>22</td>\n",
              "      <td>2015-06-02</td>\n",
              "      <td>4400</td>\n",
              "    </tr>\n",
              "    <tr>\n",
              "      <th>9</th>\n",
              "      <td>10</td>\n",
              "      <td>22929126</td>\n",
              "      <td>2</td>\n",
              "      <td>02  TWO FAMILY DWELLINGS</td>\n",
              "      <td>1557 FULTON AVENUE</td>\n",
              "      <td>2929</td>\n",
              "      <td>126</td>\n",
              "      <td></td>\n",
              "      <td>10457</td>\n",
              "      <td>1</td>\n",
              "      <td>...</td>\n",
              "      <td>3165</td>\n",
              "      <td>2394</td>\n",
              "      <td>1995</td>\n",
              "      <td>08-05-15</td>\n",
              "      <td>-73.899782</td>\n",
              "      <td>40.838008</td>\n",
              "      <td>505000</td>\n",
              "      <td>20</td>\n",
              "      <td>2015-08-05</td>\n",
              "      <td>5559</td>\n",
              "    </tr>\n",
              "    <tr>\n",
              "      <th>10</th>\n",
              "      <td>11</td>\n",
              "      <td>23030151</td>\n",
              "      <td>2</td>\n",
              "      <td>02  TWO FAMILY DWELLINGS</td>\n",
              "      <td>2264 WEBSTER AVENUE</td>\n",
              "      <td>3030</td>\n",
              "      <td>151</td>\n",
              "      <td></td>\n",
              "      <td>10457</td>\n",
              "      <td>1</td>\n",
              "      <td>...</td>\n",
              "      <td>1620</td>\n",
              "      <td>3240</td>\n",
              "      <td>1931</td>\n",
              "      <td>09/28/2015</td>\n",
              "      <td>-73.895833</td>\n",
              "      <td>40.855842</td>\n",
              "      <td>490000</td>\n",
              "      <td>84</td>\n",
              "      <td>2015-09-28</td>\n",
              "      <td>4860</td>\n",
              "    </tr>\n",
              "  </tbody>\n",
              "</table>\n",
              "<p>5 rows × 25 columns</p>\n",
              "</div>"
            ],
            "text/plain": [
              "    Sale_id    bbl_id  borough                 bldg_ctgy              address  \\\n",
              "4         5   2303936        2  01  ONE FAMILY DWELLINGS  455 EAST 184 STREET   \n",
              "7         8  22912139        2  02  TWO FAMILY DWELLINGS        3823 3 AVENUE   \n",
              "8         9  22912152        2  02  TWO FAMILY DWELLINGS  517 EAST 171 STREET   \n",
              "9        10  22929126        2  02  TWO FAMILY DWELLINGS   1557 FULTON AVENUE   \n",
              "10       11  23030151        2  02  TWO FAMILY DWELLINGS  2264 WEBSTER AVENUE   \n",
              "\n",
              "    block  lot apt    zip  tax_cls_s  ... land_sqft  tot_sqft  yr_built  \\\n",
              "4    3039   36      10458          1  ...      2500      2452      1910   \n",
              "7    2912  139      10457          1  ...      2000      2400      1993   \n",
              "8    2912  152      10457          1  ...      2000      2400      1993   \n",
              "9    2929  126      10457          1  ...      3165      2394      1995   \n",
              "10   3030  151      10457          1  ...      1620      3240      1931   \n",
              "\n",
              "     sale_date       long        lat   price  age sale_datestamp  gross_sqft  \n",
              "4     07-01-15 -73.893338  40.856136  400000  105     2015-07-01        4952  \n",
              "7     08-04-15 -73.901430  40.837883  430000   22     2015-08-04        4400  \n",
              "8     06-02-15 -73.902418  40.837337   10000   22     2015-06-02        4400  \n",
              "9     08-05-15 -73.899782  40.838008  505000   20     2015-08-05        5559  \n",
              "10  09/28/2015 -73.895833  40.855842  490000   84     2015-09-28        4860  \n",
              "\n",
              "[5 rows x 25 columns]"
            ]
          },
          "execution_count": 17,
          "metadata": {},
          "output_type": "execute_result"
        }
      ]
    },
    {
      "cell_type": "markdown",
      "metadata": {
        "id": "6-XTP4eaiMT6"
      },
      "source": [
        "##### 3.3. Remove properties without a sqft"
      ]
    },
    {
      "cell_type": "code",
      "metadata": {
        "id": "EEoqrH7NiMT7",
        "outputId": "1c164884-34bf-4033-ee0c-961332914dd2"
      },
      "source": [
        "# We also don't want any attibute to be 0, which is presumably a missing entry\n",
        "print(\"Entries with incorrect gross square feet: \", len(df2[(df2.gross_sqft == 0)]))\n",
        "\n",
        "df2 = df2[(df2.gross_sqft != 0)]\n",
        "print(\"Cleaned dataset length: \", len(df2))"
      ],
      "execution_count": null,
      "outputs": [
        {
          "name": "stdout",
          "output_type": "stream",
          "text": [
            "Entries with incorrect gross square feet:  28003\n",
            "Cleaned dataset length:  28875\n"
          ]
        }
      ]
    },
    {
      "cell_type": "markdown",
      "metadata": {
        "id": "9GBZZlpciMT7"
      },
      "source": [
        "##### 3.4. Remove duplicates sales"
      ]
    },
    {
      "cell_type": "code",
      "metadata": {
        "scrolled": true,
        "id": "gwga-aKdiMT7",
        "outputId": "4b70ffe8-a438-4d93-8364-5375022bd6a2"
      },
      "source": [
        "df2 = df2.sort_values('sale_datestamp').drop_duplicates(subset=['address', 'apt'],keep='last')\n",
        "print(\"Cleaned dataset length: \", len(df2))\n",
        "\n",
        "df2.head()\n",
        "\n",
        "df2.to_csv('sorted.csv')\n"
      ],
      "execution_count": null,
      "outputs": [
        {
          "name": "stdout",
          "output_type": "stream",
          "text": [
            "Cleaned dataset length:  27514\n"
          ]
        }
      ]
    },
    {
      "cell_type": "markdown",
      "metadata": {
        "id": "km6vEIbFiMT8"
      },
      "source": [
        "#### 3.5 Other values to remove"
      ]
    },
    {
      "cell_type": "code",
      "metadata": {
        "id": "jTmN7D7ziMT8",
        "outputId": "199a878f-5670-4bf5-cddb-a97402f995e7"
      },
      "source": [
        "# We also don't want any attibute to be 0, which is presumably a missing entry\n",
        "categories_to_clean = ['borough', 'bldg_ctgy', 'block', 'lot', 'zip', 'tax_cls_s', 'bldg_cls_s']\n",
        "for column in categories_to_clean:\n",
        "    \n",
        "    print(\"\\nEntries with incorrect \" + column + \": \", len(df2[df2[column] == 0]))\n",
        "    print(\"Original dataset length: \",len(df2))\n",
        "\n",
        "    df2 = df2[(df2[column] != 0)]\n",
        "    print(\"Cleaned dataset length: \", len(df2))"
      ],
      "execution_count": null,
      "outputs": [
        {
          "name": "stdout",
          "output_type": "stream",
          "text": [
            "\n",
            "Entries with incorrect borough:  0\n",
            "Original dataset length:  27514\n",
            "Cleaned dataset length:  27514\n",
            "\n",
            "Entries with incorrect bldg_ctgy:  0\n",
            "Original dataset length:  27514\n",
            "Cleaned dataset length:  27514\n",
            "\n",
            "Entries with incorrect block:  0\n",
            "Original dataset length:  27514\n",
            "Cleaned dataset length:  27514\n",
            "\n",
            "Entries with incorrect lot:  0\n",
            "Original dataset length:  27514\n",
            "Cleaned dataset length:  27514\n",
            "\n",
            "Entries with incorrect zip:  1\n",
            "Original dataset length:  27514\n",
            "Cleaned dataset length:  27513\n",
            "\n",
            "Entries with incorrect tax_cls_s:  0\n",
            "Original dataset length:  27513\n",
            "Cleaned dataset length:  27513\n",
            "\n",
            "Entries with incorrect bldg_cls_s:  0\n",
            "Original dataset length:  27513\n",
            "Cleaned dataset length:  27513\n"
          ]
        }
      ]
    },
    {
      "cell_type": "code",
      "metadata": {
        "id": "8gZTalW_iMT8",
        "outputId": "b8b4b18d-735f-456c-c616-81c852c69630"
      },
      "source": [
        "#Check that the cleaning steps worked\n",
        "print(len(df2[df2.yr_built == 0]))\n",
        "print(len(df2[(df2.gross_sqft == 0)]))\n",
        "print(len(df2[df2.price == 0]))"
      ],
      "execution_count": null,
      "outputs": [
        {
          "name": "stdout",
          "output_type": "stream",
          "text": [
            "0\n",
            "0\n",
            "0\n"
          ]
        }
      ]
    },
    {
      "cell_type": "markdown",
      "metadata": {
        "id": "Go80wIjdiMT9"
      },
      "source": [
        "Before we can continue, we need to divide the data into a format readable by scikit-learn. This is to make a set of source variables X (i.e. Year built, Total sqft) and targets Y (i.e. Price). "
      ]
    },
    {
      "cell_type": "code",
      "metadata": {
        "id": "Heop2PojiMT9",
        "outputId": "7092565f-3e32-4003-f8be-0463061b801b"
      },
      "source": [
        "print(df2.describe())"
      ],
      "execution_count": null,
      "outputs": [
        {
          "name": "stdout",
          "output_type": "stream",
          "text": [
            "            Sale_id        bbl_id       borough         block           lot  \\\n",
            "count  27513.000000  2.751300e+04  27513.000000  27513.000000  27513.000000   \n",
            "mean   44595.175844  1.849041e+07      3.465126   5400.367172     60.000691   \n",
            "std    29147.627454  5.873379e+07      1.020451   3757.787663    131.209986   \n",
            "min        5.000000  0.000000e+00      1.000000      4.000000      1.000000   \n",
            "25%    16306.000000  2.467744e+06      3.000000   2411.000000     19.000000   \n",
            "50%    54856.000000  3.826543e+06      4.000000   4775.000000     38.000000   \n",
            "75%    73142.000000  5.403190e+06      4.000000   7623.000000     63.000000   \n",
            "max    84767.000000  5.245075e+08      5.000000  16322.000000   7515.000000   \n",
            "\n",
            "                zip     tax_cls_s     year      res_unit      com_unit  \\\n",
            "count  27513.000000  27513.000000  27513.0  27513.000000  27513.000000   \n",
            "mean   11011.510268      1.306219   2015.0      3.542834      0.306982   \n",
            "std      473.222352      0.777545      0.0     21.643415      3.165398   \n",
            "min    10001.000000      1.000000   2015.0      0.000000      0.000000   \n",
            "25%    10465.000000      1.000000   2015.0      1.000000      0.000000   \n",
            "50%    11221.000000      1.000000   2015.0      2.000000      0.000000   \n",
            "75%    11372.000000      1.000000   2015.0      2.000000      0.000000   \n",
            "max    11694.000000      4.000000   2015.0   2491.000000    355.000000   \n",
            "\n",
            "           tot_unit      land_sqft      tot_sqft      yr_built          long  \\\n",
            "count  27513.000000   27513.000000  2.751300e+04  27513.000000  27513.000000   \n",
            "mean       3.844437    4014.164359  5.345138e+03   1939.552321    -73.918980   \n",
            "std       21.946736   13371.117296  3.671773e+04     30.567567      0.118086   \n",
            "min        0.000000       0.000000  0.000000e+00   1050.000000    -74.253512   \n",
            "25%        1.000000    2000.000000  1.408000e+03   1920.000000    -73.976968   \n",
            "50%        2.000000    2500.000000  1.991000e+03   1930.000000    -73.908199   \n",
            "75%        2.000000    4000.000000  2.934000e+03   1955.000000    -73.834729   \n",
            "max     2498.000000  829300.000000  3.122165e+06   2016.000000    -73.700774   \n",
            "\n",
            "                lat         price           age    gross_sqft  \n",
            "count  27513.000000  2.751300e+04  27513.000000  2.751300e+04  \n",
            "mean      40.692447  1.956665e+06     75.447679  9.359302e+03  \n",
            "std        0.085108  1.160406e+07     30.567567  4.629262e+04  \n",
            "min       40.499018  1.000000e+00     -1.000000  1.010000e+02  \n",
            "25%       40.628530  3.950000e+05     60.000000  3.850000e+03  \n",
            "50%       40.685747  5.850000e+05     85.000000  4.877000e+03  \n",
            "75%       40.744394  9.500000e+05     95.000000  6.400000e+03  \n",
            "max       40.912178  5.550000e+08    965.000000  3.950815e+06  \n"
          ]
        }
      ]
    },
    {
      "cell_type": "code",
      "metadata": {
        "id": "bJd7j5wDiMT9",
        "outputId": "5fefcecf-8b0d-4a8e-d6de-5ebcfc25ce95"
      },
      "source": [
        "# Create a copy of the data\n",
        "analysis_data = df2.copy()\n",
        "analysis_data.head()"
      ],
      "execution_count": null,
      "outputs": [
        {
          "data": {
            "text/html": [
              "<div>\n",
              "<style scoped>\n",
              "    .dataframe tbody tr th:only-of-type {\n",
              "        vertical-align: middle;\n",
              "    }\n",
              "\n",
              "    .dataframe tbody tr th {\n",
              "        vertical-align: top;\n",
              "    }\n",
              "\n",
              "    .dataframe thead th {\n",
              "        text-align: right;\n",
              "    }\n",
              "</style>\n",
              "<table border=\"1\" class=\"dataframe\">\n",
              "  <thead>\n",
              "    <tr style=\"text-align: right;\">\n",
              "      <th></th>\n",
              "      <th>Sale_id</th>\n",
              "      <th>bbl_id</th>\n",
              "      <th>borough</th>\n",
              "      <th>bldg_ctgy</th>\n",
              "      <th>address</th>\n",
              "      <th>block</th>\n",
              "      <th>lot</th>\n",
              "      <th>apt</th>\n",
              "      <th>zip</th>\n",
              "      <th>tax_cls_s</th>\n",
              "      <th>...</th>\n",
              "      <th>land_sqft</th>\n",
              "      <th>tot_sqft</th>\n",
              "      <th>yr_built</th>\n",
              "      <th>sale_date</th>\n",
              "      <th>long</th>\n",
              "      <th>lat</th>\n",
              "      <th>price</th>\n",
              "      <th>age</th>\n",
              "      <th>sale_datestamp</th>\n",
              "      <th>gross_sqft</th>\n",
              "    </tr>\n",
              "  </thead>\n",
              "  <tbody>\n",
              "    <tr>\n",
              "      <th>10686</th>\n",
              "      <td>10687</td>\n",
              "      <td>3561213</td>\n",
              "      <td>3</td>\n",
              "      <td>03  THREE FAMILY DWELLINGS</td>\n",
              "      <td>1420 44TH   STREET</td>\n",
              "      <td>5612</td>\n",
              "      <td>13</td>\n",
              "      <td></td>\n",
              "      <td>11219</td>\n",
              "      <td>1</td>\n",
              "      <td>...</td>\n",
              "      <td>2604</td>\n",
              "      <td>3600</td>\n",
              "      <td>1930</td>\n",
              "      <td>03-01-15</td>\n",
              "      <td>-73.986363</td>\n",
              "      <td>40.636100</td>\n",
              "      <td>970616</td>\n",
              "      <td>85</td>\n",
              "      <td>2015-03-01</td>\n",
              "      <td>6204</td>\n",
              "    </tr>\n",
              "    <tr>\n",
              "      <th>60309</th>\n",
              "      <td>60310</td>\n",
              "      <td>4543037</td>\n",
              "      <td>4</td>\n",
              "      <td>02  TWO FAMILY DWELLINGS</td>\n",
              "      <td>147-29 HAWTHORNE AVENUE</td>\n",
              "      <td>5430</td>\n",
              "      <td>37</td>\n",
              "      <td></td>\n",
              "      <td>11355</td>\n",
              "      <td>1</td>\n",
              "      <td>...</td>\n",
              "      <td>4000</td>\n",
              "      <td>2107</td>\n",
              "      <td>1920</td>\n",
              "      <td>03-02-15</td>\n",
              "      <td>-73.814219</td>\n",
              "      <td>40.754986</td>\n",
              "      <td>650000</td>\n",
              "      <td>95</td>\n",
              "      <td>2015-03-02</td>\n",
              "      <td>6107</td>\n",
              "    </tr>\n",
              "    <tr>\n",
              "      <th>19140</th>\n",
              "      <td>19141</td>\n",
              "      <td>3779025</td>\n",
              "      <td>3</td>\n",
              "      <td>01  ONE FAMILY DWELLINGS</td>\n",
              "      <td>1137 EAST 42ND   STREET</td>\n",
              "      <td>7790</td>\n",
              "      <td>25</td>\n",
              "      <td></td>\n",
              "      <td>11210</td>\n",
              "      <td>1</td>\n",
              "      <td>...</td>\n",
              "      <td>2000</td>\n",
              "      <td>1358</td>\n",
              "      <td>1925</td>\n",
              "      <td>03-02-15</td>\n",
              "      <td>-73.935468</td>\n",
              "      <td>40.627041</td>\n",
              "      <td>425000</td>\n",
              "      <td>90</td>\n",
              "      <td>2015-03-02</td>\n",
              "      <td>3358</td>\n",
              "    </tr>\n",
              "    <tr>\n",
              "      <th>13323</th>\n",
              "      <td>13324</td>\n",
              "      <td>3820154</td>\n",
              "      <td>3</td>\n",
              "      <td>01  ONE FAMILY DWELLINGS</td>\n",
              "      <td>1196 EAST 94TH   STREET</td>\n",
              "      <td>8201</td>\n",
              "      <td>54</td>\n",
              "      <td></td>\n",
              "      <td>11236</td>\n",
              "      <td>1</td>\n",
              "      <td>...</td>\n",
              "      <td>3233</td>\n",
              "      <td>1337</td>\n",
              "      <td>1920</td>\n",
              "      <td>03-02-15</td>\n",
              "      <td>-73.902311</td>\n",
              "      <td>40.641431</td>\n",
              "      <td>420000</td>\n",
              "      <td>95</td>\n",
              "      <td>2015-03-02</td>\n",
              "      <td>4570</td>\n",
              "    </tr>\n",
              "    <tr>\n",
              "      <th>20914</th>\n",
              "      <td>20915</td>\n",
              "      <td>3660184</td>\n",
              "      <td>3</td>\n",
              "      <td>01  ONE FAMILY DWELLINGS</td>\n",
              "      <td>1521 WEST 6TH   STREET</td>\n",
              "      <td>6601</td>\n",
              "      <td>84</td>\n",
              "      <td></td>\n",
              "      <td>11204</td>\n",
              "      <td>1</td>\n",
              "      <td>...</td>\n",
              "      <td>2175</td>\n",
              "      <td>1376</td>\n",
              "      <td>1925</td>\n",
              "      <td>03-02-15</td>\n",
              "      <td>-73.980029</td>\n",
              "      <td>40.609886</td>\n",
              "      <td>840000</td>\n",
              "      <td>90</td>\n",
              "      <td>2015-03-02</td>\n",
              "      <td>3551</td>\n",
              "    </tr>\n",
              "  </tbody>\n",
              "</table>\n",
              "<p>5 rows × 25 columns</p>\n",
              "</div>"
            ],
            "text/plain": [
              "       Sale_id   bbl_id  borough                   bldg_ctgy  \\\n",
              "10686    10687  3561213        3  03  THREE FAMILY DWELLINGS   \n",
              "60309    60310  4543037        4    02  TWO FAMILY DWELLINGS   \n",
              "19140    19141  3779025        3    01  ONE FAMILY DWELLINGS   \n",
              "13323    13324  3820154        3    01  ONE FAMILY DWELLINGS   \n",
              "20914    20915  3660184        3    01  ONE FAMILY DWELLINGS   \n",
              "\n",
              "                       address  block  lot apt    zip  tax_cls_s  ...  \\\n",
              "10686       1420 44TH   STREET   5612   13      11219          1  ...   \n",
              "60309  147-29 HAWTHORNE AVENUE   5430   37      11355          1  ...   \n",
              "19140  1137 EAST 42ND   STREET   7790   25      11210          1  ...   \n",
              "13323  1196 EAST 94TH   STREET   8201   54      11236          1  ...   \n",
              "20914   1521 WEST 6TH   STREET   6601   84      11204          1  ...   \n",
              "\n",
              "      land_sqft  tot_sqft  yr_built  sale_date       long        lat   price  \\\n",
              "10686      2604      3600      1930   03-01-15 -73.986363  40.636100  970616   \n",
              "60309      4000      2107      1920   03-02-15 -73.814219  40.754986  650000   \n",
              "19140      2000      1358      1925   03-02-15 -73.935468  40.627041  425000   \n",
              "13323      3233      1337      1920   03-02-15 -73.902311  40.641431  420000   \n",
              "20914      2175      1376      1925   03-02-15 -73.980029  40.609886  840000   \n",
              "\n",
              "       age sale_datestamp  gross_sqft  \n",
              "10686   85     2015-03-01        6204  \n",
              "60309   95     2015-03-02        6107  \n",
              "19140   90     2015-03-02        3358  \n",
              "13323   95     2015-03-02        4570  \n",
              "20914   90     2015-03-02        3551  \n",
              "\n",
              "[5 rows x 25 columns]"
            ]
          },
          "execution_count": 23,
          "metadata": {},
          "output_type": "execute_result"
        }
      ]
    },
    {
      "cell_type": "markdown",
      "metadata": {
        "id": "Y2w04x95iMT9"
      },
      "source": [
        "## Understanding the data\n",
        "\n",
        "### 1. Correlations between numerical columns"
      ]
    },
    {
      "cell_type": "code",
      "metadata": {
        "id": "_kOIsLF4iMT9"
      },
      "source": [
        ""
      ],
      "execution_count": null,
      "outputs": []
    },
    {
      "cell_type": "code",
      "metadata": {
        "id": "KVOWa_Z3iMT-",
        "outputId": "97cc7cc4-36c9-4710-a5ab-ce7ab632a04d"
      },
      "source": [
        "### Numerical data for correlation \n",
        "num_cols = ['res_unit', 'com_unit', 'tot_unit', 'land_sqft', 'yr_built', 'long', 'lat', 'age', 'gross_sqft']\n",
        "\n",
        "analysis_numerical_data = analysis_data[num_cols + ['price']].copy()\n",
        "analysis_numerical_data.info()"
      ],
      "execution_count": null,
      "outputs": [
        {
          "name": "stdout",
          "output_type": "stream",
          "text": [
            "<class 'pandas.core.frame.DataFrame'>\n",
            "Int64Index: 27513 entries, 10686 to 3774\n",
            "Data columns (total 10 columns):\n",
            " #   Column      Non-Null Count  Dtype  \n",
            "---  ------      --------------  -----  \n",
            " 0   res_unit    27513 non-null  int64  \n",
            " 1   com_unit    27513 non-null  int64  \n",
            " 2   tot_unit    27513 non-null  int64  \n",
            " 3   land_sqft   27513 non-null  int64  \n",
            " 4   yr_built    27513 non-null  int64  \n",
            " 5   long        27513 non-null  float64\n",
            " 6   lat         27513 non-null  float64\n",
            " 7   age         27513 non-null  int64  \n",
            " 8   gross_sqft  27513 non-null  int64  \n",
            " 9   price       27513 non-null  int64  \n",
            "dtypes: float64(2), int64(8)\n",
            "memory usage: 2.3 MB\n"
          ]
        }
      ]
    },
    {
      "cell_type": "markdown",
      "metadata": {
        "id": "GyAiHaBQiMT-"
      },
      "source": [
        "### Multivariate visualisation"
      ]
    },
    {
      "cell_type": "code",
      "metadata": {
        "scrolled": true,
        "id": "oH0CMaaoiMT-",
        "outputId": "ff30a60c-056a-4e7f-baed-43601c68d9be"
      },
      "source": [
        "import seaborn as sns\n",
        "plt.figure(figsize=(20, 10))\n",
        "sns.heatmap(analysis_numerical_data.corr().abs(),  annot=True)\n",
        "\n"
      ],
      "execution_count": null,
      "outputs": [
        {
          "data": {
            "text/plain": [
              "<AxesSubplot:>"
            ]
          },
          "execution_count": 25,
          "metadata": {},
          "output_type": "execute_result"
        },
        {
          "data": {
            "image/png": "[encoded data removed]",
            "text/plain": [
              "<Figure size 1440x720 with 2 Axes>"
            ]
          },
          "metadata": {
            "needs_background": "light"
          },
          "output_type": "display_data"
        }
      ]
    },
    {
      "cell_type": "code",
      "metadata": {
        "id": "khLzeAmNiMT-",
        "outputId": "8946023e-282a-474c-b8ce-feec8a0933a9"
      },
      "source": [
        "from sklearn import preprocessing\n",
        "\n",
        "prices = analysis_data['price']\n",
        "feature_columns = ['yr_built', 'tot_sqft', 'res_unit', 'com_unit', 'land_sqft', 'tot_unit']\n",
        "plt.figure(figsize=(5, 10))\n",
        "plt.tight_layout(pad=10, w_pad=10, h_pad=10)\n",
        "\n",
        "for i, col in enumerate(feature_columns):\n",
        "    # 3 plots here hence 1, 3\n",
        "    plt.subplot(6, 1, i+1)\n",
        "    y = analysis_data[col]\n",
        "    x = prices\n",
        "    plt.plot(x, y, 'o')\n",
        "    # Create regression line\n",
        "    plt.plot(np.unique(x), np.poly1d(np.polyfit(x, y, 1))(np.unique(x)))\n",
        "    plt.title(col)\n",
        "    plt.ylabel(col)\n",
        "    plt.xlabel('prices')"
      ],
      "execution_count": null,
      "outputs": [
        {
          "data": {
            "image/png": "[encoded data removed]",
            "text/plain": [
              "<Figure size 360x720 with 6 Axes>"
            ]
          },
          "metadata": {
            "needs_background": "light"
          },
          "output_type": "display_data"
        }
      ]
    },
    {
      "cell_type": "code",
      "metadata": {
        "id": "7tQnzvFaiMT_",
        "outputId": "13bd1d8c-21ce-4f97-cc12-88820413469f"
      },
      "source": [
        "  \n",
        "    for k, v in analysis_numerical_data.items():\n",
        "        q1 = v.quantile(0.25)\n",
        "        q3 = v.quantile(0.75)\n",
        "        irq = q3 - q1\n",
        "        v_col = v[(v <= q1 - 1.5 * irq) | (v >= q3 + 1.5 * irq)]\n",
        "        perc = np.shape(v_col)[0] * 100.0 / np.shape(analysis_data)[0]\n",
        "        print(\"Column %s outliers = %.2f%%\" % (k, perc))"
      ],
      "execution_count": null,
      "outputs": [
        {
          "name": "stdout",
          "output_type": "stream",
          "text": [
            "Column res_unit outliers = 10.69%\n",
            "Column com_unit outliers = 100.00%\n",
            "Column tot_unit outliers = 12.39%\n",
            "Column land_sqft outliers = 6.71%\n",
            "Column yr_built outliers = 3.01%\n",
            "Column long outliers = 2.24%\n",
            "Column lat outliers = 0.00%\n",
            "Column age outliers = 3.01%\n",
            "Column gross_sqft outliers = 9.76%\n",
            "Column price outliers = 11.98%\n"
          ]
        }
      ]
    },
    {
      "cell_type": "markdown",
      "metadata": {
        "id": "U_0FUwrgiMT_"
      },
      "source": [
        "### 2. Correlations between categorical columns"
      ]
    },
    {
      "cell_type": "code",
      "metadata": {
        "id": "zQudaP5xiMT_",
        "outputId": "7c1b0ba5-2b20-4ec3-8581-e47de1f5f02a"
      },
      "source": [
        "### Numerical data for correlation \n",
        "cat_cols = ['borough', 'bldg_ctgy', 'block', 'lot', 'zip', 'tax_cls_s', 'bldg_cls_s']\n",
        "\n",
        "analysis_categorical_data = analysis_data[cat_cols + ['price']].copy()\n",
        "analysis_categorical_data.info()\n"
      ],
      "execution_count": null,
      "outputs": [
        {
          "name": "stdout",
          "output_type": "stream",
          "text": [
            "<class 'pandas.core.frame.DataFrame'>\n",
            "Int64Index: 27513 entries, 10686 to 3774\n",
            "Data columns (total 8 columns):\n",
            " #   Column      Non-Null Count  Dtype \n",
            "---  ------      --------------  ----- \n",
            " 0   borough     27513 non-null  int64 \n",
            " 1   bldg_ctgy   27513 non-null  object\n",
            " 2   block       27513 non-null  int64 \n",
            " 3   lot         27513 non-null  int64 \n",
            " 4   zip         27513 non-null  int64 \n",
            " 5   tax_cls_s   27513 non-null  int64 \n",
            " 6   bldg_cls_s  27513 non-null  object\n",
            " 7   price       27513 non-null  int64 \n",
            "dtypes: int64(6), object(2)\n",
            "memory usage: 1.9+ MB\n"
          ]
        }
      ]
    },
    {
      "cell_type": "markdown",
      "metadata": {
        "id": "MfCSdit_iMUA"
      },
      "source": [
        "#### 4. Hot encode categories"
      ]
    },
    {
      "cell_type": "code",
      "metadata": {
        "id": "lAgBwx4PiMUA"
      },
      "source": [
        "# importing one hot encoder from sklearn \n",
        "# There are changes in OneHotEncoder class \n",
        "from sklearn.preprocessing import OneHotEncoder \n",
        "from sklearn.compose import ColumnTransformer \n",
        "import pandas as pd\n",
        "   \n",
        "categories_to_encode = ['borough', 'bldg_ctgy', 'block', 'lot', 'zip', 'tax_cls_s', 'bldg_cls_s']\n",
        "for column in categories_to_clean:\n",
        "    # Creating instance of one-hot-encoder\n",
        "    enc = OneHotEncoder(handle_unknown='ignore')\n",
        "    # Passing building category column (label encoded values of bldg_ctgry)\n",
        "    encoded_analysis_data = pd.DataFrame(enc.fit_transform(df2[[column]]).toarray())\n",
        "    end = len(df2) -1\n",
        "\n",
        "    # We reset the indexes of the different data frames and then merge them so that the one-hot encoding categories will be part of \n",
        "    # our cleaned dataset as well\n",
        "    df2.reset_index(drop=True)\n",
        "    encoded_analysis_data.reset_index(drop = True)\n",
        "                   \n",
        "df2.head()\n",
        "encoded_analysis_data.head()\n",
        "encoded_analysis_data.to_csv('cleaned_df.csv')"
      ],
      "execution_count": null,
      "outputs": []
    },
    {
      "cell_type": "code",
      "metadata": {
        "id": "FJIIyajwiMUB",
        "outputId": "82399ca3-126e-4fb5-d102-d05a8b7d9778"
      },
      "source": [
        "max(df2.price)\n",
        "min(df2.price)"
      ],
      "execution_count": null,
      "outputs": [
        {
          "data": {
            "text/plain": [
              "1"
            ]
          },
          "execution_count": 52,
          "metadata": {},
          "output_type": "execute_result"
        }
      ]
    },
    {
      "cell_type": "code",
      "metadata": {
        "id": "P_Ia3dwKiMUB"
      },
      "source": [
        "df3 = pd.read_csv('cleaned_df.csv', index_col=0, low_memory=False)\n"
      ],
      "execution_count": null,
      "outputs": []
    },
    {
      "cell_type": "markdown",
      "metadata": {
        "id": "rHSStBRXiMUB"
      },
      "source": [
        "#### Outliers"
      ]
    },
    {
      "cell_type": "code",
      "metadata": {
        "id": "ZXSTDUmViMUB",
        "outputId": "72ec77d9-f2d4-4654-bbdc-b213dc2f7057"
      },
      "source": [
        "df3.head()"
      ],
      "execution_count": null,
      "outputs": [
        {
          "data": {
            "text/html": [
              "<div>\n",
              "<style scoped>\n",
              "    .dataframe tbody tr th:only-of-type {\n",
              "        vertical-align: middle;\n",
              "    }\n",
              "\n",
              "    .dataframe tbody tr th {\n",
              "        vertical-align: top;\n",
              "    }\n",
              "\n",
              "    .dataframe thead th {\n",
              "        text-align: right;\n",
              "    }\n",
              "</style>\n",
              "<table border=\"1\" class=\"dataframe\">\n",
              "  <thead>\n",
              "    <tr style=\"text-align: right;\">\n",
              "      <th></th>\n",
              "      <th>0</th>\n",
              "      <th>1</th>\n",
              "      <th>2</th>\n",
              "      <th>3</th>\n",
              "      <th>4</th>\n",
              "      <th>5</th>\n",
              "      <th>6</th>\n",
              "      <th>7</th>\n",
              "      <th>8</th>\n",
              "      <th>9</th>\n",
              "      <th>...</th>\n",
              "      <th>130</th>\n",
              "      <th>131</th>\n",
              "      <th>132</th>\n",
              "      <th>133</th>\n",
              "      <th>134</th>\n",
              "      <th>135</th>\n",
              "      <th>136</th>\n",
              "      <th>137</th>\n",
              "      <th>138</th>\n",
              "      <th>139</th>\n",
              "    </tr>\n",
              "  </thead>\n",
              "  <tbody>\n",
              "    <tr>\n",
              "      <th>0</th>\n",
              "      <td>0.0</td>\n",
              "      <td>0.0</td>\n",
              "      <td>0.0</td>\n",
              "      <td>0.0</td>\n",
              "      <td>0.0</td>\n",
              "      <td>0.0</td>\n",
              "      <td>0.0</td>\n",
              "      <td>0.0</td>\n",
              "      <td>0.0</td>\n",
              "      <td>0.0</td>\n",
              "      <td>...</td>\n",
              "      <td>0.0</td>\n",
              "      <td>0.0</td>\n",
              "      <td>0.0</td>\n",
              "      <td>0.0</td>\n",
              "      <td>0.0</td>\n",
              "      <td>0.0</td>\n",
              "      <td>0.0</td>\n",
              "      <td>0.0</td>\n",
              "      <td>0.0</td>\n",
              "      <td>0.0</td>\n",
              "    </tr>\n",
              "    <tr>\n",
              "      <th>1</th>\n",
              "      <td>0.0</td>\n",
              "      <td>0.0</td>\n",
              "      <td>0.0</td>\n",
              "      <td>0.0</td>\n",
              "      <td>0.0</td>\n",
              "      <td>0.0</td>\n",
              "      <td>0.0</td>\n",
              "      <td>0.0</td>\n",
              "      <td>0.0</td>\n",
              "      <td>0.0</td>\n",
              "      <td>...</td>\n",
              "      <td>0.0</td>\n",
              "      <td>0.0</td>\n",
              "      <td>0.0</td>\n",
              "      <td>0.0</td>\n",
              "      <td>0.0</td>\n",
              "      <td>0.0</td>\n",
              "      <td>0.0</td>\n",
              "      <td>0.0</td>\n",
              "      <td>0.0</td>\n",
              "      <td>0.0</td>\n",
              "    </tr>\n",
              "    <tr>\n",
              "      <th>2</th>\n",
              "      <td>0.0</td>\n",
              "      <td>0.0</td>\n",
              "      <td>0.0</td>\n",
              "      <td>0.0</td>\n",
              "      <td>0.0</td>\n",
              "      <td>0.0</td>\n",
              "      <td>0.0</td>\n",
              "      <td>0.0</td>\n",
              "      <td>0.0</td>\n",
              "      <td>1.0</td>\n",
              "      <td>...</td>\n",
              "      <td>0.0</td>\n",
              "      <td>0.0</td>\n",
              "      <td>0.0</td>\n",
              "      <td>0.0</td>\n",
              "      <td>0.0</td>\n",
              "      <td>0.0</td>\n",
              "      <td>0.0</td>\n",
              "      <td>0.0</td>\n",
              "      <td>0.0</td>\n",
              "      <td>0.0</td>\n",
              "    </tr>\n",
              "    <tr>\n",
              "      <th>3</th>\n",
              "      <td>0.0</td>\n",
              "      <td>1.0</td>\n",
              "      <td>0.0</td>\n",
              "      <td>0.0</td>\n",
              "      <td>0.0</td>\n",
              "      <td>0.0</td>\n",
              "      <td>0.0</td>\n",
              "      <td>0.0</td>\n",
              "      <td>0.0</td>\n",
              "      <td>0.0</td>\n",
              "      <td>...</td>\n",
              "      <td>0.0</td>\n",
              "      <td>0.0</td>\n",
              "      <td>0.0</td>\n",
              "      <td>0.0</td>\n",
              "      <td>0.0</td>\n",
              "      <td>0.0</td>\n",
              "      <td>0.0</td>\n",
              "      <td>0.0</td>\n",
              "      <td>0.0</td>\n",
              "      <td>0.0</td>\n",
              "    </tr>\n",
              "    <tr>\n",
              "      <th>4</th>\n",
              "      <td>0.0</td>\n",
              "      <td>0.0</td>\n",
              "      <td>0.0</td>\n",
              "      <td>0.0</td>\n",
              "      <td>0.0</td>\n",
              "      <td>0.0</td>\n",
              "      <td>0.0</td>\n",
              "      <td>0.0</td>\n",
              "      <td>0.0</td>\n",
              "      <td>1.0</td>\n",
              "      <td>...</td>\n",
              "      <td>0.0</td>\n",
              "      <td>0.0</td>\n",
              "      <td>0.0</td>\n",
              "      <td>0.0</td>\n",
              "      <td>0.0</td>\n",
              "      <td>0.0</td>\n",
              "      <td>0.0</td>\n",
              "      <td>0.0</td>\n",
              "      <td>0.0</td>\n",
              "      <td>0.0</td>\n",
              "    </tr>\n",
              "  </tbody>\n",
              "</table>\n",
              "<p>5 rows × 140 columns</p>\n",
              "</div>"
            ],
            "text/plain": [
              "     0    1    2    3    4    5    6    7    8    9  ...  130  131  132  133  \\\n",
              "0  0.0  0.0  0.0  0.0  0.0  0.0  0.0  0.0  0.0  0.0  ...  0.0  0.0  0.0  0.0   \n",
              "1  0.0  0.0  0.0  0.0  0.0  0.0  0.0  0.0  0.0  0.0  ...  0.0  0.0  0.0  0.0   \n",
              "2  0.0  0.0  0.0  0.0  0.0  0.0  0.0  0.0  0.0  1.0  ...  0.0  0.0  0.0  0.0   \n",
              "3  0.0  1.0  0.0  0.0  0.0  0.0  0.0  0.0  0.0  0.0  ...  0.0  0.0  0.0  0.0   \n",
              "4  0.0  0.0  0.0  0.0  0.0  0.0  0.0  0.0  0.0  1.0  ...  0.0  0.0  0.0  0.0   \n",
              "\n",
              "   134  135  136  137  138  139  \n",
              "0  0.0  0.0  0.0  0.0  0.0  0.0  \n",
              "1  0.0  0.0  0.0  0.0  0.0  0.0  \n",
              "2  0.0  0.0  0.0  0.0  0.0  0.0  \n",
              "3  0.0  0.0  0.0  0.0  0.0  0.0  \n",
              "4  0.0  0.0  0.0  0.0  0.0  0.0  \n",
              "\n",
              "[5 rows x 140 columns]"
            ]
          },
          "execution_count": 51,
          "metadata": {},
          "output_type": "execute_result"
        }
      ]
    },
    {
      "cell_type": "markdown",
      "metadata": {
        "id": "z4yjMD-_iMUB"
      },
      "source": [
        "### Models"
      ]
    },
    {
      "cell_type": "markdown",
      "metadata": {
        "id": "ga90uj-8iMUB"
      },
      "source": [
        "#### Prepare models"
      ]
    },
    {
      "cell_type": "code",
      "metadata": {
        "id": "03CbnQ-oiMUB"
      },
      "source": [
        "# Spot Check Algorithms\n",
        "# https://www.kaggle.com/vikrishnan/house-sales-price-using-regression#Load-dataset\n",
        "\n",
        "from sklearn.preprocessing import StandardScaler\n",
        "from sklearn.model_selection import train_test_split\n",
        "from sklearn.model_selection import KFold\n",
        "from sklearn.model_selection import cross_val_score\n",
        "from sklearn.model_selection import GridSearchCV\n",
        "from sklearn.linear_model import LinearRegression\n",
        "from sklearn.linear_model import Lasso\n",
        "from sklearn.linear_model import ElasticNet\n",
        "from sklearn.tree import DecisionTreeRegressor\n",
        "from sklearn.neighbors import KNeighborsRegressor\n",
        "from sklearn.svm import SVR\n",
        "from sklearn.pipeline import Pipeline\n",
        "from sklearn.ensemble import RandomForestRegressor\n",
        "from sklearn.ensemble import GradientBoostingRegressor\n",
        "from sklearn.ensemble import ExtraTreesRegressor\n",
        "from sklearn.ensemble import AdaBoostRegressor\n",
        "from sklearn.metrics import mean_squared_error\n",
        "from sklearn.pipeline import Pipeline    \n",
        "from sklearn.metrics import make_scorer, mean_squared_error, mean_absolute_error\n",
        "\n",
        "\n",
        "models = []\n",
        "models.append(('LR', LinearRegression()))\n",
        "models.append(('RFR', RandomForestRegressor()))\n",
        "models.append(('GBR', GradientBoostingRegressor()))\n",
        "models.append(('KNN', KNeighborsRegressor()))\n",
        "\n",
        "# models.append(('LASSO', Lasso()))\n",
        "# models.append(('EN', ElasticNet()))\n",
        "# models.append(('KNN', KNeighborsRegressor()))\n",
        "# models.append(('CART', DecisionTreeRegressor()))\n",
        "# models.append(('SVR', SVR()))\n"
      ],
      "execution_count": null,
      "outputs": []
    },
    {
      "cell_type": "markdown",
      "metadata": {
        "id": "cJmHRgkziMUB"
      },
      "source": [
        "#### Test and create base models"
      ]
    },
    {
      "cell_type": "code",
      "metadata": {
        "scrolled": true,
        "id": "mcS7dC2xiMUC",
        "outputId": "d42c4cef-4a98-427b-ad05-9afe52e70070"
      },
      "source": [
        "# Split-out validation dataset\n",
        "# NB: doesn't include categorical data\n",
        "\n",
        "dataset = analysis_numerical_data\n",
        "array = dataset.values\n",
        "\n",
        "X = dataset.drop(columns=['price'])\n",
        "Y = dataset.price\n",
        "Y = np.array(Y).reshape(-1)\n",
        "\n",
        "seed = 7\n",
        "X_train, X_test, Y_train, y_test = train_test_split(X, Y, test_size=0.20, random_state = 40)\n",
        "\n",
        "num_folds = 10\n",
        "seed = 7\n",
        "RMS = 'neg_mean_squared_error'\n",
        "\n",
        "results = []\n",
        "names = []\n",
        "mae_results = []\n",
        "for name, model in models:\n",
        "    kfold = KFold(n_splits=num_folds, random_state=seed)\n",
        "    cv_results = cross_val_score(model, X_train, Y_train, cv=kfold, scoring=RMS)\n",
        "    results.append(cv_results)\n",
        "    \n",
        "    names.append(name)\n",
        "    msg = \"%s: %f (%f)\" % (name, cv_results.mean(), cv_results.std())\n",
        "    print(msg)\n",
        "    "
      ],
      "execution_count": null,
      "outputs": [
        {
          "name": "stderr",
          "output_type": "stream",
          "text": [
            "/opt/anaconda3/lib/python3.8/site-packages/sklearn/model_selection/_split.py:293: FutureWarning: Setting a random_state has no effect since shuffle is False. This will raise an error in 0.24. You should leave random_state to its default (None), or set shuffle=True.\n",
            "  warnings.warn(\n"
          ]
        },
        {
          "name": "stdout",
          "output_type": "stream",
          "text": [
            "LR: -117570920701891.593750 (67297443219772.226562)\n"
          ]
        },
        {
          "name": "stderr",
          "output_type": "stream",
          "text": [
            "/opt/anaconda3/lib/python3.8/site-packages/sklearn/model_selection/_split.py:293: FutureWarning: Setting a random_state has no effect since shuffle is False. This will raise an error in 0.24. You should leave random_state to its default (None), or set shuffle=True.\n",
            "  warnings.warn(\n"
          ]
        },
        {
          "name": "stdout",
          "output_type": "stream",
          "text": [
            "RFR: -50533029150373.875000 (27744326943439.304688)\n"
          ]
        },
        {
          "name": "stderr",
          "output_type": "stream",
          "text": [
            "/opt/anaconda3/lib/python3.8/site-packages/sklearn/model_selection/_split.py:293: FutureWarning: Setting a random_state has no effect since shuffle is False. This will raise an error in 0.24. You should leave random_state to its default (None), or set shuffle=True.\n",
            "  warnings.warn(\n"
          ]
        },
        {
          "name": "stdout",
          "output_type": "stream",
          "text": [
            "GBR: -61827818846575.398438 (31459060217547.714844)\n"
          ]
        },
        {
          "name": "stderr",
          "output_type": "stream",
          "text": [
            "/opt/anaconda3/lib/python3.8/site-packages/sklearn/model_selection/_split.py:293: FutureWarning: Setting a random_state has no effect since shuffle is False. This will raise an error in 0.24. You should leave random_state to its default (None), or set shuffle=True.\n",
            "  warnings.warn(\n"
          ]
        },
        {
          "name": "stdout",
          "output_type": "stream",
          "text": [
            "KNN: -68444351516884.859375 (40206104700868.664062)\n"
          ]
        }
      ]
    },
    {
      "cell_type": "markdown",
      "metadata": {
        "id": "a7YSrPPoiMUC"
      },
      "source": [
        "#### Compare models"
      ]
    },
    {
      "cell_type": "code",
      "metadata": {
        "id": "MMdql326iMUC",
        "outputId": "4f9bfa64-bb1f-434e-bed8-d82741527e7f"
      },
      "source": [
        "from matplotlib import pyplot\n",
        "\n",
        "fig = pyplot.figure()\n",
        "fig.suptitle('Scaled Algorithm Comparison')\n",
        "ax = fig.add_subplot(111)\n",
        "pyplot.boxplot(results)\n",
        "ax.set_xticklabels(names)\n",
        "pyplot.show()"
      ],
      "execution_count": null,
      "outputs": [
        {
          "data": {
            "image/png": "[encoded data removed]",
            "text/plain": [
              "<Figure size 432x288 with 1 Axes>"
            ]
          },
          "metadata": {
            "needs_background": "light"
          },
          "output_type": "display_data"
        }
      ]
    },
    {
      "cell_type": "markdown",
      "metadata": {
        "id": "LAOgy0KAiMUC"
      },
      "source": [
        "### Ensembles"
      ]
    },
    {
      "cell_type": "markdown",
      "metadata": {
        "id": "_3srkezZiMUD"
      },
      "source": [
        "#### Model pipelines"
      ]
    },
    {
      "cell_type": "code",
      "metadata": {
        "id": "mMq0O5rviMUD"
      },
      "source": [
        "numeric_features = num_cols # NB: price is not part of num_cols? should it be\n",
        "numeric_transformer = Pipeline([('scaler', StandardScaler())])\n",
        "\n",
        "categorical_features = cat_cols # NB: price is not part of categorical_cols? should it be\n",
        "categorical_transformer = Pipeline([('onehot', OneHotEncoder(handle_unknown='ignore'))])\n",
        "\n",
        "preprocessor = ColumnTransformer(\n",
        "    transformers=[\n",
        "                  ('num', numeric_transformer, numeric_features),\n",
        "    #              ('cat', categorical_transformer, categorical_features)\n",
        "    ])\n",
        "\n",
        "\n",
        "\n",
        "scaled_lr_pipeline = Pipeline([('Preprocessor', preprocessor),('LR', LinearRegression())])\n",
        "scaled_gbr_pipeline = Pipeline([('Preprocessor', preprocessor),('regressor', GradientBoostingRegressor())])\n",
        "scaled_knn_pipeline = Pipeline([('Preprocessor', preprocessor),('KNN', KNeighborsRegressor())])\n",
        "\n",
        "# scaled_rfr_pipeline = Pipeline([('Preprocessor', preprocessor),('RFR', RandomForestRegressor())])\n"
      ],
      "execution_count": null,
      "outputs": []
    },
    {
      "cell_type": "code",
      "metadata": {
        "id": "R7VdQwT3iMUD",
        "outputId": "51cda740-742f-47df-88dd-9b60776c1d60"
      },
      "source": [
        "ensembles = []\n",
        "ensembles.append(('ScaledLR', scaled_lr_pipeline))\n",
        "# ensembles.append(('ScaledRFR', scaled_rfr_pipeline))\n",
        "ensembles.append(('ScaledGBR', scaled_gbr_pipeline))\n",
        "ensembles.append(('ScaledKNN', scaled_knn_pipeline))\n",
        "\n",
        "# ensembles.append(('ScaledAB', Pipeline([('Scaler', StandardScaler()),('AB', AdaBoostRegressor())])))\n",
        "# ensembles.append(('ScaledRF', Pipeline([('Scaler', StandardScaler()),('RF', RandomForestRegressor())])))\n",
        "# ensembles.append(('ScaledET', Pipeline([('Scaler', StandardScaler()),('ET', ExtraTreesRegressor())])))\n",
        "\n",
        "results = []\n",
        "names = []\n",
        "for name, model in ensembles:\n",
        "\tkfold = KFold(n_splits=num_folds, random_state=seed)\n",
        "\tcv_results = cross_val_score(model, X_train, Y_train, cv=kfold, scoring=RMS)\n",
        "\tresults.append(cv_results)\n",
        "\tnames.append(name)\n",
        "\tmsg = \"%s: %f (%f)\" % (name, cv_results.mean(), cv_results.std())\n",
        "\tprint(msg)\n",
        "dataset.shape"
      ],
      "execution_count": null,
      "outputs": [
        {
          "name": "stderr",
          "output_type": "stream",
          "text": [
            "/opt/anaconda3/lib/python3.8/site-packages/sklearn/model_selection/_split.py:293: FutureWarning: Setting a random_state has no effect since shuffle is False. This will raise an error in 0.24. You should leave random_state to its default (None), or set shuffle=True.\n",
            "  warnings.warn(\n"
          ]
        },
        {
          "name": "stdout",
          "output_type": "stream",
          "text": [
            "ScaledLR: -117574889746419.343750 (67296793745532.937500)\n"
          ]
        },
        {
          "name": "stderr",
          "output_type": "stream",
          "text": [
            "/opt/anaconda3/lib/python3.8/site-packages/sklearn/model_selection/_split.py:293: FutureWarning: Setting a random_state has no effect since shuffle is False. This will raise an error in 0.24. You should leave random_state to its default (None), or set shuffle=True.\n",
            "  warnings.warn(\n"
          ]
        },
        {
          "name": "stdout",
          "output_type": "stream",
          "text": [
            "ScaledGBR: -61411032682614.484375 (32699115639180.234375)\n"
          ]
        },
        {
          "name": "stderr",
          "output_type": "stream",
          "text": [
            "/opt/anaconda3/lib/python3.8/site-packages/sklearn/model_selection/_split.py:293: FutureWarning: Setting a random_state has no effect since shuffle is False. This will raise an error in 0.24. You should leave random_state to its default (None), or set shuffle=True.\n",
            "  warnings.warn(\n"
          ]
        },
        {
          "name": "stdout",
          "output_type": "stream",
          "text": [
            "ScaledKNN: -87920371100290.906250 (52689063465356.742188)\n"
          ]
        },
        {
          "data": {
            "text/plain": [
              "(27513, 10)"
            ]
          },
          "execution_count": 35,
          "metadata": {},
          "output_type": "execute_result"
        }
      ]
    },
    {
      "cell_type": "markdown",
      "metadata": {
        "id": "l8mxQjWfiMUD"
      },
      "source": [
        "### Compare"
      ]
    },
    {
      "cell_type": "code",
      "metadata": {
        "id": "U355Xw4YiMUE",
        "outputId": "2839cd4a-9782-4070-972a-fd18f24e13de"
      },
      "source": [
        "fig = pyplot.figure()\n",
        "fig.suptitle('Scaled Algorithm Comparison')\n",
        "ax = fig.add_subplot(111)\n",
        "pyplot.boxplot(results)\n",
        "ax.set_xticklabels(names)\n",
        "pyplot.show()"
      ],
      "execution_count": null,
      "outputs": [
        {
          "data": {
            "image/png": "[encoded data removed]",
            "text/plain": [
              "<Figure size 432x288 with 1 Axes>"
            ]
          },
          "metadata": {
            "needs_background": "light"
          },
          "output_type": "display_data"
        }
      ]
    },
    {
      "cell_type": "markdown",
      "metadata": {
        "id": "FJsIUU59iMUF"
      },
      "source": [
        "### Fine tune"
      ]
    },
    {
      "cell_type": "code",
      "metadata": {
        "id": "4LHNSsf1iMUF",
        "outputId": "cba80dbb-5038-459a-ad49-77f7a9e26ee5"
      },
      "source": [
        "# 'neg_mean_squared_error', metrics.mean_squared_error is used here\n",
        "scoring_metrics = make_scorer(mean_squared_error, greater_is_better=False)\n",
        "kfold = KFold(n_splits=num_folds, random_state=seed)\n"
      ],
      "execution_count": null,
      "outputs": [
        {
          "name": "stderr",
          "output_type": "stream",
          "text": [
            "/opt/anaconda3/lib/python3.8/site-packages/sklearn/model_selection/_split.py:293: FutureWarning: Setting a random_state has no effect since shuffle is False. This will raise an error in 0.24. You should leave random_state to its default (None), or set shuffle=True.\n",
            "  warnings.warn(\n"
          ]
        }
      ]
    },
    {
      "cell_type": "markdown",
      "metadata": {
        "id": "xKp02Vl5iMUF"
      },
      "source": [
        "#### Fine tune gradient boost"
      ]
    },
    {
      "cell_type": "code",
      "metadata": {
        "id": "vSP3wJ6tiMUF",
        "outputId": "b6c4db2d-7c7d-4c9d-a7c0-02cdcd8fbdc4"
      },
      "source": [
        "gradientBoost_param_grid = {\n",
        "    'regressor__learning_rate':[0.01, 0.05, 0.1, 0.5],\n",
        "    'regressor__max_depth':[3,4]\n",
        "}\n",
        "\n",
        "\n",
        "gradientBoost_grid_search = GridSearchCV(scaled_gbr_pipeline, gradientBoost_param_grid, scoring=scoring_metrics, cv=kfold)\n",
        "gradientBoost_grid_result = gradientBoost_grid_search.fit(X_train, Y_train)\n",
        "\n",
        "\n",
        "print(f\"best score is {gradientBoost_grid_result.best_score_}, best parameter from grid search is {gradientBoost_grid_result.best_params_}\")"
      ],
      "execution_count": null,
      "outputs": [
        {
          "name": "stdout",
          "output_type": "stream",
          "text": [
            "best score is -56115423037641.42, best parameter from grid search is {'regressor__learning_rate': 0.1, 'regressor__max_depth': 4}\n"
          ]
        }
      ]
    },
    {
      "cell_type": "markdown",
      "metadata": {
        "id": "3_YUA2S2iMUF"
      },
      "source": [
        "#### KNN Fine tuning"
      ]
    },
    {
      "cell_type": "code",
      "metadata": {
        "id": "aVd8p2r5iMUF",
        "outputId": "f5ec959c-7aeb-4cd0-9716-04be6ea74c73"
      },
      "source": [
        "import numpy \n",
        "k_values = numpy.array([1,3,5,7,9,11,13,15,17,19,21])\n",
        "knn_param_grid = dict(n_neighbors=k_values)\n",
        "\n",
        "\n",
        "knn_grid_search = GridSearchCV(scaled_knn_pipeline, knn_param_grid, scoring=scoring_metrics, cv=kfold)\n",
        "knn_grid_result = knn_grid_search.fit(X_train, Y_train)\n",
        "\n",
        "\n",
        "print(f\"best score is {knn_grid_result.best_score_}, best parameter from grid search is {knn_grid_result.best_params_}\")"
      ],
      "execution_count": null,
      "outputs": [
        {
          "ename": "ValueError",
          "evalue": "Invalid parameter n_neighbors for estimator Pipeline(steps=[('Preprocessor',\n                 ColumnTransformer(transformers=[('num',\n                                                  Pipeline(steps=[('scaler',\n                                                                   StandardScaler())]),\n                                                  ['res_unit', 'com_unit',\n                                                   'tot_unit', 'land_sqft',\n                                                   'yr_built', 'long', 'lat',\n                                                   'age', 'gross_sqft'])])),\n                ('KNN', KNeighborsRegressor())]). Check the list of available parameters with `estimator.get_params().keys()`.",
          "output_type": "error",
          "traceback": [
            "\u001b[0;31m---------------------------------------------------------------------------\u001b[0m",
            "\u001b[0;31mValueError\u001b[0m                                Traceback (most recent call last)",
            "\u001b[0;32m<ipython-input-40-dc4ed7d87ef4>\u001b[0m in \u001b[0;36m<module>\u001b[0;34m\u001b[0m\n\u001b[1;32m      5\u001b[0m \u001b[0;34m\u001b[0m\u001b[0m\n\u001b[1;32m      6\u001b[0m \u001b[0mknn_grid_search\u001b[0m \u001b[0;34m=\u001b[0m \u001b[0mGridSearchCV\u001b[0m\u001b[0;34m(\u001b[0m\u001b[0mscaled_knn_pipeline\u001b[0m\u001b[0;34m,\u001b[0m \u001b[0mknn_param_grid\u001b[0m\u001b[0;34m,\u001b[0m \u001b[0mscoring\u001b[0m\u001b[0;34m=\u001b[0m\u001b[0mscoring_metrics\u001b[0m\u001b[0;34m,\u001b[0m \u001b[0mcv\u001b[0m\u001b[0;34m=\u001b[0m\u001b[0mkfold\u001b[0m\u001b[0;34m)\u001b[0m\u001b[0;34m\u001b[0m\u001b[0;34m\u001b[0m\u001b[0m\n\u001b[0;32m----> 7\u001b[0;31m \u001b[0mknn_grid_result\u001b[0m \u001b[0;34m=\u001b[0m \u001b[0mknn_grid_search\u001b[0m\u001b[0;34m.\u001b[0m\u001b[0mfit\u001b[0m\u001b[0;34m(\u001b[0m\u001b[0mX_train\u001b[0m\u001b[0;34m,\u001b[0m \u001b[0mY_train\u001b[0m\u001b[0;34m)\u001b[0m\u001b[0;34m\u001b[0m\u001b[0;34m\u001b[0m\u001b[0m\n\u001b[0m\u001b[1;32m      8\u001b[0m \u001b[0;34m\u001b[0m\u001b[0m\n\u001b[1;32m      9\u001b[0m \u001b[0;34m\u001b[0m\u001b[0m\n",
            "\u001b[0;32m/opt/anaconda3/lib/python3.8/site-packages/sklearn/utils/validation.py\u001b[0m in \u001b[0;36minner_f\u001b[0;34m(*args, **kwargs)\u001b[0m\n\u001b[1;32m     70\u001b[0m                           FutureWarning)\n\u001b[1;32m     71\u001b[0m         \u001b[0mkwargs\u001b[0m\u001b[0;34m.\u001b[0m\u001b[0mupdate\u001b[0m\u001b[0;34m(\u001b[0m\u001b[0;34m{\u001b[0m\u001b[0mk\u001b[0m\u001b[0;34m:\u001b[0m \u001b[0marg\u001b[0m \u001b[0;32mfor\u001b[0m \u001b[0mk\u001b[0m\u001b[0;34m,\u001b[0m \u001b[0marg\u001b[0m \u001b[0;32min\u001b[0m \u001b[0mzip\u001b[0m\u001b[0;34m(\u001b[0m\u001b[0msig\u001b[0m\u001b[0;34m.\u001b[0m\u001b[0mparameters\u001b[0m\u001b[0;34m,\u001b[0m \u001b[0margs\u001b[0m\u001b[0;34m)\u001b[0m\u001b[0;34m}\u001b[0m\u001b[0;34m)\u001b[0m\u001b[0;34m\u001b[0m\u001b[0;34m\u001b[0m\u001b[0m\n\u001b[0;32m---> 72\u001b[0;31m         \u001b[0;32mreturn\u001b[0m \u001b[0mf\u001b[0m\u001b[0;34m(\u001b[0m\u001b[0;34m**\u001b[0m\u001b[0mkwargs\u001b[0m\u001b[0;34m)\u001b[0m\u001b[0;34m\u001b[0m\u001b[0;34m\u001b[0m\u001b[0m\n\u001b[0m\u001b[1;32m     73\u001b[0m     \u001b[0;32mreturn\u001b[0m \u001b[0minner_f\u001b[0m\u001b[0;34m\u001b[0m\u001b[0;34m\u001b[0m\u001b[0m\n\u001b[1;32m     74\u001b[0m \u001b[0;34m\u001b[0m\u001b[0m\n",
            "\u001b[0;32m/opt/anaconda3/lib/python3.8/site-packages/sklearn/model_selection/_search.py\u001b[0m in \u001b[0;36mfit\u001b[0;34m(self, X, y, groups, **fit_params)\u001b[0m\n\u001b[1;32m    734\u001b[0m                 \u001b[0;32mreturn\u001b[0m \u001b[0mresults\u001b[0m\u001b[0;34m\u001b[0m\u001b[0;34m\u001b[0m\u001b[0m\n\u001b[1;32m    735\u001b[0m \u001b[0;34m\u001b[0m\u001b[0m\n\u001b[0;32m--> 736\u001b[0;31m             \u001b[0mself\u001b[0m\u001b[0;34m.\u001b[0m\u001b[0m_run_search\u001b[0m\u001b[0;34m(\u001b[0m\u001b[0mevaluate_candidates\u001b[0m\u001b[0;34m)\u001b[0m\u001b[0;34m\u001b[0m\u001b[0;34m\u001b[0m\u001b[0m\n\u001b[0m\u001b[1;32m    737\u001b[0m \u001b[0;34m\u001b[0m\u001b[0m\n\u001b[1;32m    738\u001b[0m         \u001b[0;31m# For multi-metric evaluation, store the best_index_, best_params_ and\u001b[0m\u001b[0;34m\u001b[0m\u001b[0;34m\u001b[0m\u001b[0;34m\u001b[0m\u001b[0m\n",
            "\u001b[0;32m/opt/anaconda3/lib/python3.8/site-packages/sklearn/model_selection/_search.py\u001b[0m in \u001b[0;36m_run_search\u001b[0;34m(self, evaluate_candidates)\u001b[0m\n\u001b[1;32m   1186\u001b[0m     \u001b[0;32mdef\u001b[0m \u001b[0m_run_search\u001b[0m\u001b[0;34m(\u001b[0m\u001b[0mself\u001b[0m\u001b[0;34m,\u001b[0m \u001b[0mevaluate_candidates\u001b[0m\u001b[0;34m)\u001b[0m\u001b[0;34m:\u001b[0m\u001b[0;34m\u001b[0m\u001b[0;34m\u001b[0m\u001b[0m\n\u001b[1;32m   1187\u001b[0m         \u001b[0;34m\"\"\"Search all candidates in param_grid\"\"\"\u001b[0m\u001b[0;34m\u001b[0m\u001b[0;34m\u001b[0m\u001b[0m\n\u001b[0;32m-> 1188\u001b[0;31m         \u001b[0mevaluate_candidates\u001b[0m\u001b[0;34m(\u001b[0m\u001b[0mParameterGrid\u001b[0m\u001b[0;34m(\u001b[0m\u001b[0mself\u001b[0m\u001b[0;34m.\u001b[0m\u001b[0mparam_grid\u001b[0m\u001b[0;34m)\u001b[0m\u001b[0;34m)\u001b[0m\u001b[0;34m\u001b[0m\u001b[0;34m\u001b[0m\u001b[0m\n\u001b[0m\u001b[1;32m   1189\u001b[0m \u001b[0;34m\u001b[0m\u001b[0m\n\u001b[1;32m   1190\u001b[0m \u001b[0;34m\u001b[0m\u001b[0m\n",
            "\u001b[0;32m/opt/anaconda3/lib/python3.8/site-packages/sklearn/model_selection/_search.py\u001b[0m in \u001b[0;36mevaluate_candidates\u001b[0;34m(candidate_params)\u001b[0m\n\u001b[1;32m    706\u001b[0m                               n_splits, n_candidates, n_candidates * n_splits))\n\u001b[1;32m    707\u001b[0m \u001b[0;34m\u001b[0m\u001b[0m\n\u001b[0;32m--> 708\u001b[0;31m                 out = parallel(delayed(_fit_and_score)(clone(base_estimator),\n\u001b[0m\u001b[1;32m    709\u001b[0m                                                        \u001b[0mX\u001b[0m\u001b[0;34m,\u001b[0m \u001b[0my\u001b[0m\u001b[0;34m,\u001b[0m\u001b[0;34m\u001b[0m\u001b[0;34m\u001b[0m\u001b[0m\n\u001b[1;32m    710\u001b[0m                                                        \u001b[0mtrain\u001b[0m\u001b[0;34m=\u001b[0m\u001b[0mtrain\u001b[0m\u001b[0;34m,\u001b[0m \u001b[0mtest\u001b[0m\u001b[0;34m=\u001b[0m\u001b[0mtest\u001b[0m\u001b[0;34m,\u001b[0m\u001b[0;34m\u001b[0m\u001b[0;34m\u001b[0m\u001b[0m\n",
            "\u001b[0;32m/opt/anaconda3/lib/python3.8/site-packages/joblib/parallel.py\u001b[0m in \u001b[0;36m__call__\u001b[0;34m(self, iterable)\u001b[0m\n\u001b[1;32m   1027\u001b[0m             \u001b[0;31m# remaining jobs.\u001b[0m\u001b[0;34m\u001b[0m\u001b[0;34m\u001b[0m\u001b[0;34m\u001b[0m\u001b[0m\n\u001b[1;32m   1028\u001b[0m             \u001b[0mself\u001b[0m\u001b[0;34m.\u001b[0m\u001b[0m_iterating\u001b[0m \u001b[0;34m=\u001b[0m \u001b[0;32mFalse\u001b[0m\u001b[0;34m\u001b[0m\u001b[0;34m\u001b[0m\u001b[0m\n\u001b[0;32m-> 1029\u001b[0;31m             \u001b[0;32mif\u001b[0m \u001b[0mself\u001b[0m\u001b[0;34m.\u001b[0m\u001b[0mdispatch_one_batch\u001b[0m\u001b[0;34m(\u001b[0m\u001b[0miterator\u001b[0m\u001b[0;34m)\u001b[0m\u001b[0;34m:\u001b[0m\u001b[0;34m\u001b[0m\u001b[0;34m\u001b[0m\u001b[0m\n\u001b[0m\u001b[1;32m   1030\u001b[0m                 \u001b[0mself\u001b[0m\u001b[0;34m.\u001b[0m\u001b[0m_iterating\u001b[0m \u001b[0;34m=\u001b[0m \u001b[0mself\u001b[0m\u001b[0;34m.\u001b[0m\u001b[0m_original_iterator\u001b[0m \u001b[0;32mis\u001b[0m \u001b[0;32mnot\u001b[0m \u001b[0;32mNone\u001b[0m\u001b[0;34m\u001b[0m\u001b[0;34m\u001b[0m\u001b[0m\n\u001b[1;32m   1031\u001b[0m \u001b[0;34m\u001b[0m\u001b[0m\n",
            "\u001b[0;32m/opt/anaconda3/lib/python3.8/site-packages/joblib/parallel.py\u001b[0m in \u001b[0;36mdispatch_one_batch\u001b[0;34m(self, iterator)\u001b[0m\n\u001b[1;32m    845\u001b[0m                 \u001b[0;32mreturn\u001b[0m \u001b[0;32mFalse\u001b[0m\u001b[0;34m\u001b[0m\u001b[0;34m\u001b[0m\u001b[0m\n\u001b[1;32m    846\u001b[0m             \u001b[0;32melse\u001b[0m\u001b[0;34m:\u001b[0m\u001b[0;34m\u001b[0m\u001b[0;34m\u001b[0m\u001b[0m\n\u001b[0;32m--> 847\u001b[0;31m                 \u001b[0mself\u001b[0m\u001b[0;34m.\u001b[0m\u001b[0m_dispatch\u001b[0m\u001b[0;34m(\u001b[0m\u001b[0mtasks\u001b[0m\u001b[0;34m)\u001b[0m\u001b[0;34m\u001b[0m\u001b[0;34m\u001b[0m\u001b[0m\n\u001b[0m\u001b[1;32m    848\u001b[0m                 \u001b[0;32mreturn\u001b[0m \u001b[0;32mTrue\u001b[0m\u001b[0;34m\u001b[0m\u001b[0;34m\u001b[0m\u001b[0m\n\u001b[1;32m    849\u001b[0m \u001b[0;34m\u001b[0m\u001b[0m\n",
            "\u001b[0;32m/opt/anaconda3/lib/python3.8/site-packages/joblib/parallel.py\u001b[0m in \u001b[0;36m_dispatch\u001b[0;34m(self, batch)\u001b[0m\n\u001b[1;32m    763\u001b[0m         \u001b[0;32mwith\u001b[0m \u001b[0mself\u001b[0m\u001b[0;34m.\u001b[0m\u001b[0m_lock\u001b[0m\u001b[0;34m:\u001b[0m\u001b[0;34m\u001b[0m\u001b[0;34m\u001b[0m\u001b[0m\n\u001b[1;32m    764\u001b[0m             \u001b[0mjob_idx\u001b[0m \u001b[0;34m=\u001b[0m \u001b[0mlen\u001b[0m\u001b[0;34m(\u001b[0m\u001b[0mself\u001b[0m\u001b[0;34m.\u001b[0m\u001b[0m_jobs\u001b[0m\u001b[0;34m)\u001b[0m\u001b[0;34m\u001b[0m\u001b[0;34m\u001b[0m\u001b[0m\n\u001b[0;32m--> 765\u001b[0;31m             \u001b[0mjob\u001b[0m \u001b[0;34m=\u001b[0m \u001b[0mself\u001b[0m\u001b[0;34m.\u001b[0m\u001b[0m_backend\u001b[0m\u001b[0;34m.\u001b[0m\u001b[0mapply_async\u001b[0m\u001b[0;34m(\u001b[0m\u001b[0mbatch\u001b[0m\u001b[0;34m,\u001b[0m \u001b[0mcallback\u001b[0m\u001b[0;34m=\u001b[0m\u001b[0mcb\u001b[0m\u001b[0;34m)\u001b[0m\u001b[0;34m\u001b[0m\u001b[0;34m\u001b[0m\u001b[0m\n\u001b[0m\u001b[1;32m    766\u001b[0m             \u001b[0;31m# A job can complete so quickly than its callback is\u001b[0m\u001b[0;34m\u001b[0m\u001b[0;34m\u001b[0m\u001b[0;34m\u001b[0m\u001b[0m\n\u001b[1;32m    767\u001b[0m             \u001b[0;31m# called before we get here, causing self._jobs to\u001b[0m\u001b[0;34m\u001b[0m\u001b[0;34m\u001b[0m\u001b[0;34m\u001b[0m\u001b[0m\n",
            "\u001b[0;32m/opt/anaconda3/lib/python3.8/site-packages/joblib/_parallel_backends.py\u001b[0m in \u001b[0;36mapply_async\u001b[0;34m(self, func, callback)\u001b[0m\n\u001b[1;32m    206\u001b[0m     \u001b[0;32mdef\u001b[0m \u001b[0mapply_async\u001b[0m\u001b[0;34m(\u001b[0m\u001b[0mself\u001b[0m\u001b[0;34m,\u001b[0m \u001b[0mfunc\u001b[0m\u001b[0;34m,\u001b[0m \u001b[0mcallback\u001b[0m\u001b[0;34m=\u001b[0m\u001b[0;32mNone\u001b[0m\u001b[0;34m)\u001b[0m\u001b[0;34m:\u001b[0m\u001b[0;34m\u001b[0m\u001b[0;34m\u001b[0m\u001b[0m\n\u001b[1;32m    207\u001b[0m         \u001b[0;34m\"\"\"Schedule a func to be run\"\"\"\u001b[0m\u001b[0;34m\u001b[0m\u001b[0;34m\u001b[0m\u001b[0m\n\u001b[0;32m--> 208\u001b[0;31m         \u001b[0mresult\u001b[0m \u001b[0;34m=\u001b[0m \u001b[0mImmediateResult\u001b[0m\u001b[0;34m(\u001b[0m\u001b[0mfunc\u001b[0m\u001b[0;34m)\u001b[0m\u001b[0;34m\u001b[0m\u001b[0;34m\u001b[0m\u001b[0m\n\u001b[0m\u001b[1;32m    209\u001b[0m         \u001b[0;32mif\u001b[0m \u001b[0mcallback\u001b[0m\u001b[0;34m:\u001b[0m\u001b[0;34m\u001b[0m\u001b[0;34m\u001b[0m\u001b[0m\n\u001b[1;32m    210\u001b[0m             \u001b[0mcallback\u001b[0m\u001b[0;34m(\u001b[0m\u001b[0mresult\u001b[0m\u001b[0;34m)\u001b[0m\u001b[0;34m\u001b[0m\u001b[0;34m\u001b[0m\u001b[0m\n",
            "\u001b[0;32m/opt/anaconda3/lib/python3.8/site-packages/joblib/_parallel_backends.py\u001b[0m in \u001b[0;36m__init__\u001b[0;34m(self, batch)\u001b[0m\n\u001b[1;32m    570\u001b[0m         \u001b[0;31m# Don't delay the application, to avoid keeping the input\u001b[0m\u001b[0;34m\u001b[0m\u001b[0;34m\u001b[0m\u001b[0;34m\u001b[0m\u001b[0m\n\u001b[1;32m    571\u001b[0m         \u001b[0;31m# arguments in memory\u001b[0m\u001b[0;34m\u001b[0m\u001b[0;34m\u001b[0m\u001b[0;34m\u001b[0m\u001b[0m\n\u001b[0;32m--> 572\u001b[0;31m         \u001b[0mself\u001b[0m\u001b[0;34m.\u001b[0m\u001b[0mresults\u001b[0m \u001b[0;34m=\u001b[0m \u001b[0mbatch\u001b[0m\u001b[0;34m(\u001b[0m\u001b[0;34m)\u001b[0m\u001b[0;34m\u001b[0m\u001b[0;34m\u001b[0m\u001b[0m\n\u001b[0m\u001b[1;32m    573\u001b[0m \u001b[0;34m\u001b[0m\u001b[0m\n\u001b[1;32m    574\u001b[0m     \u001b[0;32mdef\u001b[0m \u001b[0mget\u001b[0m\u001b[0;34m(\u001b[0m\u001b[0mself\u001b[0m\u001b[0;34m)\u001b[0m\u001b[0;34m:\u001b[0m\u001b[0;34m\u001b[0m\u001b[0;34m\u001b[0m\u001b[0m\n",
            "\u001b[0;32m/opt/anaconda3/lib/python3.8/site-packages/joblib/parallel.py\u001b[0m in \u001b[0;36m__call__\u001b[0;34m(self)\u001b[0m\n\u001b[1;32m    250\u001b[0m         \u001b[0;31m# change the default number of processes to -1\u001b[0m\u001b[0;34m\u001b[0m\u001b[0;34m\u001b[0m\u001b[0;34m\u001b[0m\u001b[0m\n\u001b[1;32m    251\u001b[0m         \u001b[0;32mwith\u001b[0m \u001b[0mparallel_backend\u001b[0m\u001b[0;34m(\u001b[0m\u001b[0mself\u001b[0m\u001b[0;34m.\u001b[0m\u001b[0m_backend\u001b[0m\u001b[0;34m,\u001b[0m \u001b[0mn_jobs\u001b[0m\u001b[0;34m=\u001b[0m\u001b[0mself\u001b[0m\u001b[0;34m.\u001b[0m\u001b[0m_n_jobs\u001b[0m\u001b[0;34m)\u001b[0m\u001b[0;34m:\u001b[0m\u001b[0;34m\u001b[0m\u001b[0;34m\u001b[0m\u001b[0m\n\u001b[0;32m--> 252\u001b[0;31m             return [func(*args, **kwargs)\n\u001b[0m\u001b[1;32m    253\u001b[0m                     for func, args, kwargs in self.items]\n\u001b[1;32m    254\u001b[0m \u001b[0;34m\u001b[0m\u001b[0m\n",
            "\u001b[0;32m/opt/anaconda3/lib/python3.8/site-packages/joblib/parallel.py\u001b[0m in \u001b[0;36m<listcomp>\u001b[0;34m(.0)\u001b[0m\n\u001b[1;32m    250\u001b[0m         \u001b[0;31m# change the default number of processes to -1\u001b[0m\u001b[0;34m\u001b[0m\u001b[0;34m\u001b[0m\u001b[0;34m\u001b[0m\u001b[0m\n\u001b[1;32m    251\u001b[0m         \u001b[0;32mwith\u001b[0m \u001b[0mparallel_backend\u001b[0m\u001b[0;34m(\u001b[0m\u001b[0mself\u001b[0m\u001b[0;34m.\u001b[0m\u001b[0m_backend\u001b[0m\u001b[0;34m,\u001b[0m \u001b[0mn_jobs\u001b[0m\u001b[0;34m=\u001b[0m\u001b[0mself\u001b[0m\u001b[0;34m.\u001b[0m\u001b[0m_n_jobs\u001b[0m\u001b[0;34m)\u001b[0m\u001b[0;34m:\u001b[0m\u001b[0;34m\u001b[0m\u001b[0;34m\u001b[0m\u001b[0m\n\u001b[0;32m--> 252\u001b[0;31m             return [func(*args, **kwargs)\n\u001b[0m\u001b[1;32m    253\u001b[0m                     for func, args, kwargs in self.items]\n\u001b[1;32m    254\u001b[0m \u001b[0;34m\u001b[0m\u001b[0m\n",
            "\u001b[0;32m/opt/anaconda3/lib/python3.8/site-packages/sklearn/model_selection/_validation.py\u001b[0m in \u001b[0;36m_fit_and_score\u001b[0;34m(estimator, X, y, scorer, train, test, verbose, parameters, fit_params, return_train_score, return_parameters, return_n_test_samples, return_times, return_estimator, error_score)\u001b[0m\n\u001b[1;32m    518\u001b[0m             \u001b[0mcloned_parameters\u001b[0m\u001b[0;34m[\u001b[0m\u001b[0mk\u001b[0m\u001b[0;34m]\u001b[0m \u001b[0;34m=\u001b[0m \u001b[0mclone\u001b[0m\u001b[0;34m(\u001b[0m\u001b[0mv\u001b[0m\u001b[0;34m,\u001b[0m \u001b[0msafe\u001b[0m\u001b[0;34m=\u001b[0m\u001b[0;32mFalse\u001b[0m\u001b[0;34m)\u001b[0m\u001b[0;34m\u001b[0m\u001b[0;34m\u001b[0m\u001b[0m\n\u001b[1;32m    519\u001b[0m \u001b[0;34m\u001b[0m\u001b[0m\n\u001b[0;32m--> 520\u001b[0;31m         \u001b[0mestimator\u001b[0m \u001b[0;34m=\u001b[0m \u001b[0mestimator\u001b[0m\u001b[0;34m.\u001b[0m\u001b[0mset_params\u001b[0m\u001b[0;34m(\u001b[0m\u001b[0;34m**\u001b[0m\u001b[0mcloned_parameters\u001b[0m\u001b[0;34m)\u001b[0m\u001b[0;34m\u001b[0m\u001b[0;34m\u001b[0m\u001b[0m\n\u001b[0m\u001b[1;32m    521\u001b[0m \u001b[0;34m\u001b[0m\u001b[0m\n\u001b[1;32m    522\u001b[0m     \u001b[0mstart_time\u001b[0m \u001b[0;34m=\u001b[0m \u001b[0mtime\u001b[0m\u001b[0;34m.\u001b[0m\u001b[0mtime\u001b[0m\u001b[0;34m(\u001b[0m\u001b[0;34m)\u001b[0m\u001b[0;34m\u001b[0m\u001b[0;34m\u001b[0m\u001b[0m\n",
            "\u001b[0;32m/opt/anaconda3/lib/python3.8/site-packages/sklearn/pipeline.py\u001b[0m in \u001b[0;36mset_params\u001b[0;34m(self, **kwargs)\u001b[0m\n\u001b[1;32m    139\u001b[0m         \u001b[0mself\u001b[0m\u001b[0;34m\u001b[0m\u001b[0;34m\u001b[0m\u001b[0m\n\u001b[1;32m    140\u001b[0m         \"\"\"\n\u001b[0;32m--> 141\u001b[0;31m         \u001b[0mself\u001b[0m\u001b[0;34m.\u001b[0m\u001b[0m_set_params\u001b[0m\u001b[0;34m(\u001b[0m\u001b[0;34m'steps'\u001b[0m\u001b[0;34m,\u001b[0m \u001b[0;34m**\u001b[0m\u001b[0mkwargs\u001b[0m\u001b[0;34m)\u001b[0m\u001b[0;34m\u001b[0m\u001b[0;34m\u001b[0m\u001b[0m\n\u001b[0m\u001b[1;32m    142\u001b[0m         \u001b[0;32mreturn\u001b[0m \u001b[0mself\u001b[0m\u001b[0;34m\u001b[0m\u001b[0;34m\u001b[0m\u001b[0m\n\u001b[1;32m    143\u001b[0m \u001b[0;34m\u001b[0m\u001b[0m\n",
            "\u001b[0;32m/opt/anaconda3/lib/python3.8/site-packages/sklearn/utils/metaestimators.py\u001b[0m in \u001b[0;36m_set_params\u001b[0;34m(self, attr, **params)\u001b[0m\n\u001b[1;32m     51\u001b[0m                 \u001b[0mself\u001b[0m\u001b[0;34m.\u001b[0m\u001b[0m_replace_estimator\u001b[0m\u001b[0;34m(\u001b[0m\u001b[0mattr\u001b[0m\u001b[0;34m,\u001b[0m \u001b[0mname\u001b[0m\u001b[0;34m,\u001b[0m \u001b[0mparams\u001b[0m\u001b[0;34m.\u001b[0m\u001b[0mpop\u001b[0m\u001b[0;34m(\u001b[0m\u001b[0mname\u001b[0m\u001b[0;34m)\u001b[0m\u001b[0;34m)\u001b[0m\u001b[0;34m\u001b[0m\u001b[0;34m\u001b[0m\u001b[0m\n\u001b[1;32m     52\u001b[0m         \u001b[0;31m# 3. Step parameters and other initialisation arguments\u001b[0m\u001b[0;34m\u001b[0m\u001b[0;34m\u001b[0m\u001b[0;34m\u001b[0m\u001b[0m\n\u001b[0;32m---> 53\u001b[0;31m         \u001b[0msuper\u001b[0m\u001b[0;34m(\u001b[0m\u001b[0;34m)\u001b[0m\u001b[0;34m.\u001b[0m\u001b[0mset_params\u001b[0m\u001b[0;34m(\u001b[0m\u001b[0;34m**\u001b[0m\u001b[0mparams\u001b[0m\u001b[0;34m)\u001b[0m\u001b[0;34m\u001b[0m\u001b[0;34m\u001b[0m\u001b[0m\n\u001b[0m\u001b[1;32m     54\u001b[0m         \u001b[0;32mreturn\u001b[0m \u001b[0mself\u001b[0m\u001b[0;34m\u001b[0m\u001b[0;34m\u001b[0m\u001b[0m\n\u001b[1;32m     55\u001b[0m \u001b[0;34m\u001b[0m\u001b[0m\n",
            "\u001b[0;32m/opt/anaconda3/lib/python3.8/site-packages/sklearn/base.py\u001b[0m in \u001b[0;36mset_params\u001b[0;34m(self, **params)\u001b[0m\n\u001b[1;32m    247\u001b[0m             \u001b[0mkey\u001b[0m\u001b[0;34m,\u001b[0m \u001b[0mdelim\u001b[0m\u001b[0;34m,\u001b[0m \u001b[0msub_key\u001b[0m \u001b[0;34m=\u001b[0m \u001b[0mkey\u001b[0m\u001b[0;34m.\u001b[0m\u001b[0mpartition\u001b[0m\u001b[0;34m(\u001b[0m\u001b[0;34m'__'\u001b[0m\u001b[0;34m)\u001b[0m\u001b[0;34m\u001b[0m\u001b[0;34m\u001b[0m\u001b[0m\n\u001b[1;32m    248\u001b[0m             \u001b[0;32mif\u001b[0m \u001b[0mkey\u001b[0m \u001b[0;32mnot\u001b[0m \u001b[0;32min\u001b[0m \u001b[0mvalid_params\u001b[0m\u001b[0;34m:\u001b[0m\u001b[0;34m\u001b[0m\u001b[0;34m\u001b[0m\u001b[0m\n\u001b[0;32m--> 249\u001b[0;31m                 raise ValueError('Invalid parameter %s for estimator %s. '\n\u001b[0m\u001b[1;32m    250\u001b[0m                                  \u001b[0;34m'Check the list of available parameters '\u001b[0m\u001b[0;34m\u001b[0m\u001b[0;34m\u001b[0m\u001b[0m\n\u001b[1;32m    251\u001b[0m                                  \u001b[0;34m'with `estimator.get_params().keys()`.'\u001b[0m \u001b[0;34m%\u001b[0m\u001b[0;34m\u001b[0m\u001b[0;34m\u001b[0m\u001b[0m\n",
            "\u001b[0;31mValueError\u001b[0m: Invalid parameter n_neighbors for estimator Pipeline(steps=[('Preprocessor',\n                 ColumnTransformer(transformers=[('num',\n                                                  Pipeline(steps=[('scaler',\n                                                                   StandardScaler())]),\n                                                  ['res_unit', 'com_unit',\n                                                   'tot_unit', 'land_sqft',\n                                                   'yr_built', 'long', 'lat',\n                                                   'age', 'gross_sqft'])])),\n                ('KNN', KNeighborsRegressor())]). Check the list of available parameters with `estimator.get_params().keys()`."
          ]
        }
      ]
    },
    {
      "cell_type": "markdown",
      "metadata": {
        "id": "mCzG0kpaiMUF"
      },
      "source": [
        "### Overview"
      ]
    },
    {
      "cell_type": "code",
      "metadata": {
        "id": "t_lBXrL1iMUG",
        "outputId": "17f7b93c-9856-4974-cb21-95479593abc3"
      },
      "source": [
        "print(f'GradientBoosting score is {np.sqrt(gradientBoost_grid_search.best_score_ * -1)}')\n",
        "print(f'KNN score is {np.sqrt(knn_grid_result.best_score_ * -1)}')\n",
        "print(f'LinearRegression score is {np.sqrt(lr_grid_search.best_score_ * -1)}')\n"
      ],
      "execution_count": null,
      "outputs": [
        {
          "name": "stdout",
          "output_type": "stream",
          "text": [
            "GradientBoosting score is 7491022.829870526\n"
          ]
        },
        {
          "ename": "NameError",
          "evalue": "name 'knn_grid_result' is not defined",
          "output_type": "error",
          "traceback": [
            "\u001b[0;31m---------------------------------------------------------------------------\u001b[0m",
            "\u001b[0;31mNameError\u001b[0m                                 Traceback (most recent call last)",
            "\u001b[0;32m<ipython-input-41-741a6e7f4d97>\u001b[0m in \u001b[0;36m<module>\u001b[0;34m\u001b[0m\n\u001b[1;32m      1\u001b[0m \u001b[0mprint\u001b[0m\u001b[0;34m(\u001b[0m\u001b[0;34mf'GradientBoosting score is {np.sqrt(gradientBoost_grid_search.best_score_ * -1)}'\u001b[0m\u001b[0;34m)\u001b[0m\u001b[0;34m\u001b[0m\u001b[0;34m\u001b[0m\u001b[0m\n\u001b[0;32m----> 2\u001b[0;31m \u001b[0mprint\u001b[0m\u001b[0;34m(\u001b[0m\u001b[0;34mf'KNN score is {np.sqrt(knn_grid_result.best_score_ * -1)}'\u001b[0m\u001b[0;34m)\u001b[0m\u001b[0;34m\u001b[0m\u001b[0;34m\u001b[0m\u001b[0m\n\u001b[0m\u001b[1;32m      3\u001b[0m \u001b[0mprint\u001b[0m\u001b[0;34m(\u001b[0m\u001b[0;34mf'LinearRegression score is {np.sqrt(lr_grid_search.best_score_ * -1)}'\u001b[0m\u001b[0;34m)\u001b[0m\u001b[0;34m\u001b[0m\u001b[0;34m\u001b[0m\u001b[0m\n",
            "\u001b[0;31mNameError\u001b[0m: name 'knn_grid_result' is not defined"
          ]
        }
      ]
    },
    {
      "cell_type": "markdown",
      "metadata": {
        "id": "TOW2SNsQiMUG"
      },
      "source": [
        "### Prediction"
      ]
    },
    {
      "cell_type": "code",
      "metadata": {
        "id": "RrqENOqpiMUG",
        "outputId": "9e0d1141-3fd7-4f10-c03c-7f2dbd74e06f"
      },
      "source": [
        "scaler = StandardScaler().fit(X_train)\n",
        "rescaledX = scaler.transform(X_train)\n",
        "\n",
        "param_grid = {\n",
        "   'regressor__learning_rate':0.01,\n",
        "    'regressor__max_depth':4\n",
        "}\n",
        "model = GradientBoostingRegressor(random_state=seed, learning_rate=0.01, max_depth=4)\n",
        "model.fit(rescaledX, Y_train)\n",
        "# transform the validation dataset\n",
        "rescaledValidationX = scaler.transform(X_test)\n",
        "predictions = model.predict(rescaledValidationX)\n",
        "print(mean_absolute_error(y_test, predictions))\n"
      ],
      "execution_count": null,
      "outputs": [
        {
          "name": "stdout",
          "output_type": "stream",
          "text": [
            "1704167.1961186961\n"
          ]
        }
      ]
    },
    {
      "cell_type": "code",
      "metadata": {
        "id": "M0wESw0NiMUG"
      },
      "source": [
        "predictions=predictions.astype(int)\n",
        "submission = pd.DataFrame({\n",
        "        \"Org House Price\": y_test,\n",
        "        \"Pred House Price\": predictions\n",
        "    })\n",
        "\n",
        "submission.to_csv(\"PredictedPrice.csv\", index=False)"
      ],
      "execution_count": null,
      "outputs": []
    },
    {
      "cell_type": "markdown",
      "metadata": {
        "id": "A_QCYvLriMUH"
      },
      "source": [
        "### TODO - Following part is not done yet...."
      ]
    },
    {
      "cell_type": "code",
      "metadata": {
        "id": "WI0P6oKmiMUH"
      },
      "source": [
        "# R^2 scores\n",
        "print('Train:', lr.score(X_train, y_train))\n",
        "print('Test:', lr.score(X_test, y_test))"
      ],
      "execution_count": null,
      "outputs": []
    },
    {
      "cell_type": "code",
      "metadata": {
        "id": "VH1YpF8XiMUH"
      },
      "source": [
        "#linear space\n",
        "plt.scatter(y_test, lr.predict(X_test))\n",
        "plt.xlabel(\"Actual Price\")\n",
        "plt.ylabel(\"Predicted Price\")\n",
        "plt.title(\"Actual Price vs Predicted Price\")\n",
        "plt.show()"
      ],
      "execution_count": null,
      "outputs": []
    },
    {
      "cell_type": "code",
      "metadata": {
        "id": "1GkNelMLiMUH"
      },
      "source": [
        "#log space\n",
        "plt.scatter(y_test, lr.predict(X_test))\n",
        "plt.xlabel(\"Actual Price\")\n",
        "plt.ylabel(\"Predicted Price\")\n",
        "plt.title(\"Actual Price vs Predicted Price\")\n",
        "plt.xlim(1,4e8)\n",
        "plt.ylim(1,4e8)\n",
        "plt.xscale('log')\n",
        "plt.yscale('log')\n",
        "plt.show()"
      ],
      "execution_count": null,
      "outputs": []
    },
    {
      "cell_type": "markdown",
      "metadata": {
        "id": "j_C-8UnpiMUH"
      },
      "source": [
        "### Questions?\n",
        "From the plot we see that there does not seem to be some correlation between predicted and real prices, but only within limited ranges. \n",
        "What oddities can you in the dataset are illustrated by these figures? \n",
        "Think about how you will deal with them?"
      ]
    },
    {
      "cell_type": "markdown",
      "metadata": {
        "id": "FO98iYTpiMUI"
      },
      "source": [
        "Another way to interpret our regression model is looking at the residual plot. In this plot, each point is one house price (observation), the prediction made by the model is on the x-axis and the residual of the prediction is on the y-axis. This distance from the line at 0 is how far off the prediction was for that value."
      ]
    },
    {
      "cell_type": "code",
      "metadata": {
        "id": "Cit0DnKFiMUI"
      },
      "source": [
        "import seaborn\n",
        "\n",
        "seaborn.residplot(y_test, lr.predict(X_test))\n",
        "plt.xlabel(\"Predicted prices\")\n",
        "plt.ylabel(\"Residuals\")\n",
        "plt.title(\"Residual plot\")\n",
        "plt.show()"
      ],
      "execution_count": null,
      "outputs": []
    },
    {
      "cell_type": "markdown",
      "metadata": {
        "id": "n15MctR-iMUI"
      },
      "source": [
        "The residual plot indicates that there the y-axis of our dataset might be imbalanced. It furthermore seems like there are quite a few outliers in the data. Let's now check the Mean Absolute Error.\n",
        "\n",
        "Mean Absolute Error is given by \n",
        "![image.png](attachment:image.png)\n",
        "\n",
        "\n",
        "and basically captures the absolute difference between predicted and true target variables. Remember that prices are provided in US-Dollars.\n"
      ]
    },
    {
      "cell_type": "code",
      "metadata": {
        "id": "Dg5miZeaiMUI"
      },
      "source": [
        "from sklearn.metrics import mean_absolute_error\n",
        "\n",
        "print('MAE:', mean_absolute_error(y_test, lr.predict(X_test)))"
      ],
      "execution_count": null,
      "outputs": []
    },
    {
      "cell_type": "markdown",
      "metadata": {
        "id": "b64JOIhyiMUJ"
      },
      "source": [
        "Comment on MAE?"
      ]
    },
    {
      "cell_type": "code",
      "metadata": {
        "id": "H0dAvYNBiMUJ"
      },
      "source": [
        "abs(y_test - y_test.mean()).mean()"
      ],
      "execution_count": null,
      "outputs": []
    },
    {
      "cell_type": "markdown",
      "metadata": {
        "id": "wlUPXPj4iMUJ"
      },
      "source": [
        "Comment on a random prediction by this metric,? What features might and might not show things about house price"
      ]
    },
    {
      "cell_type": "markdown",
      "metadata": {
        "id": "gXd5no68iMUJ"
      },
      "source": [
        "## To do:\n",
        "\n",
        "- [ ] Tune hyperparameters how?\n",
        "- [ ] Proper train / validation / test data split\n",
        "- [ ] Remove extreme entries? How does this affect result (some visualisations before and after)\n",
        "- [ ] What other information could you use to augment this dataset?  For example, look at the list of information sources here: https://github.com/CityOfNewYork/nyc-geo-metadata \n",
        "- [ ] What information could be relevant (correlated) with property price? How could you use include this information in the table above?\n"
      ]
    },
    {
      "cell_type": "markdown",
      "metadata": {
        "id": "yNJ64wfuiMUJ"
      },
      "source": [
        "# Image Features Part 1 "
      ]
    },
    {
      "cell_type": "markdown",
      "metadata": {
        "id": "IyuOG8rwiMUK"
      },
      "source": [
        "\n",
        "In this project, contextual information is going to be provided in the form of satellite imagery. These images have the potential to give us insight into the features of a properties’ direct surroundings. Specifically, we will use features extracted from images from a (pretrained) Convolutional Neural Network (CNN).\n"
      ]
    },
    {
      "cell_type": "markdown",
      "metadata": {
        "id": "etv2iNq_iMUK"
      },
      "source": [
        "#### Aerial images dataset\n",
        "Aerial imagery is provided by the New York City Department of Information Technology & Telecommunications. Images are captured every two years during spring and summer months and cover the entire state of New York. We include the most recent images, which means 2018 in our case. Before being published, the images have been corrected to remove distortions caused by elevation changes and camera angles. Images are provided as four-band raster files in the .jp2 format and contain meta-information such as the geo-location of each image pixel, which is in a similarly projected coordinate system to the real estate sales data.\n",
        "\n",
        "Link to the original image dataset: https://github.com/CityOfNewYork/nyc-geo-metadata/blob/master/Metadata/Metadata_AerialImagery.md\n",
        "\n",
        "![image.png](attachment:image.png)"
      ]
    },
    {
      "cell_type": "markdown",
      "metadata": {
        "id": "3AN24KNUiMUL"
      },
      "source": [
        "In order to generate a set of satellite images matching the locations of the sold houses, the .jp2 files from this dataset were first merged into a three-band (RGB) raster dataset, which when combined looks like the image above. In this file, each pixel corresponds to specicific geographic coordinates. \n",
        "\n",
        "With this file, for each house in the dataaset, a square image is cut from this mosaic. Th tile square has the house at its centre point and its surroundings are within a 500ft radius. More precisely, we take the house's coordinates and create a bounding box around them, where we set the size of the box to 1001x1001 feet. This bounding box is then used as a mask() function, which cuts out the part of the raster file which we are interested in. \n",
        "\n",
        "The resulting images are stored as colored .jpg files, with size set to 2000x2000 (pixels, not feet).  \n",
        "\n",
        "For these operations, we used the [rasterio](https://rasterio.readthedocs.io/en/stable/api/rasterio.html) package, which allows us to read and process .jp2 files.\n",
        "\n",
        "An example from the generated images looks like the below:"
      ]
    },
    {
      "cell_type": "code",
      "metadata": {
        "id": "PoubXRTziMUM"
      },
      "source": [
        "# Requires pillow package --> conda install -c anaconda pillow\n",
        "\n",
        "from PIL import Image\n",
        "\n",
        "img = Image.open('12188.jpg')\n",
        "img"
      ],
      "execution_count": null,
      "outputs": []
    },
    {
      "cell_type": "markdown",
      "metadata": {
        "id": "hjAm4H-KiMUN"
      },
      "source": [
        "Next, we need to get the feature representation. For this, we use a well known Convolutional Neural Network, Inception-V3, as a feature extractor. The network is pretrained on ImageNet [Imagenet](http://www.image-net.org/)  - a a large-scale dataset of natural images (animals, objects). Despite how far this training set may seem from satellite photos, several studies have shown that the generic descriptors extracted from such convolutional neural networks are very powerful and useful for various visual recognition tasks [[ref.]](https://arxiv.org/abs/1403.6382). \n",
        "\n",
        "Using this network, we extract our feature representation output from the first convolutional layer. We use this first layer as we assume this layer to provides the most generic visual image features. This is grounded in the assumption that filters from later layers might already be too specialized in detecting objects within the range of classes present in the Imagenet dataset, and thus returning features that are too specialized for dealing with satellite images.\n",
        "\n",
        "In more simple terms, it means that we do not want the image descriptors to be specialized in describing a chair, tree or any other class from the Imagenet data. Instead we aim for more general features representing for instance edges and color blobs, which are most likely to be found in the very early convolutional layers of the network. "
      ]
    },
    {
      "cell_type": "markdown",
      "metadata": {
        "id": "reIx9fr8iMUP"
      },
      "source": [
        "#### Running the feature extractor"
      ]
    },
    {
      "cell_type": "markdown",
      "metadata": {
        "id": "KHkFpVRpiMUP"
      },
      "source": [
        "We start with loading the pre-trained Inception-V3 CNN model."
      ]
    },
    {
      "cell_type": "code",
      "metadata": {
        "id": "NHjq9kKTiMUP"
      },
      "source": [
        "from keras.models import Model\n",
        "from keras.optimizers import Adam\n",
        "from keras.layers import GlobalAveragePooling2D\n",
        "from keras.applications.inception_v3 import InceptionV3\n",
        "\n",
        "# Getting the InceptionV3 model\n",
        "base_inception = InceptionV3(weights='imagenet', include_top=False, \n",
        "                             input_shape=(299, 299, 3))\n",
        "                             \n",
        "# Selecting the first convolutional layer as the output layer    \n",
        "out = base_inception.layers[1].output\n",
        "\n",
        "# Adding a global spatial average pooling layer to reduce the number of features\n",
        "out = GlobalAveragePooling2D()(out)\n",
        "\n",
        "model = Model(inputs=base_inception.input, outputs=out)\n",
        "\n",
        "# Lock model parameters\n",
        "for layer in base_inception.layers:\n",
        "    layer.trainable = False\n",
        "    \n",
        "# show model summary\n",
        "model.summary()"
      ],
      "execution_count": null,
      "outputs": []
    },
    {
      "cell_type": "markdown",
      "metadata": {
        "id": "MIdG8bhHiMUP"
      },
      "source": [
        "We see that the output is an array with length 32. These 32 elements represent the global averages of each convolution matrix in the first layer. In other words, the Global Average Pooling operation outputs the  spatial  average  of  each  feature  map. It can be visualized as follows: \n",
        "\n",
        "![image.png](attachment:image.png)\n",
        "\n",
        "Next we initialize a Model object, which we will use to extract the image features."
      ]
    },
    {
      "cell_type": "code",
      "metadata": {
        "id": "3-bKwlo1iMUP"
      },
      "source": [
        "extract = Model(model.inputs, model.output)\n",
        "\n",
        "# Empty dataframe to store the features in\n",
        "df_visual = pd.DataFrame()"
      ],
      "execution_count": null,
      "outputs": []
    },
    {
      "cell_type": "markdown",
      "metadata": {
        "id": "i2llX2AliMUQ"
      },
      "source": [
        "Lastly, we load the image and feed it through the CNN model. We end up with an array as explained above."
      ]
    },
    {
      "cell_type": "code",
      "metadata": {
        "id": "E05WCRzQiMUQ"
      },
      "source": [
        "from keras.preprocessing.image import img_to_array, load_img\n",
        "import matplotlib.pyplot as plt\n",
        "\n",
        "# Turning image into an arry\n",
        "arr = np.array([img_to_array(load_img('12188.jpg', target_size=(299,299)))]).astype('float32')\n",
        "\n",
        "# Normalizing\n",
        "arr /= 255.\n",
        "\n",
        "# Getting the feature vector\n",
        "features = extract.predict(arr)\n",
        "print('Image features:\\n', features)\n",
        "print('Array shape:', features.shape)"
      ],
      "execution_count": null,
      "outputs": []
    },
    {
      "cell_type": "code",
      "metadata": {
        "id": "ZxQ_Ij4BiMUQ"
      },
      "source": [
        "# Adding the features into the dataframe\n",
        "\n",
        "df_visual = df_visual.append(pd.DataFrame(features))\n",
        "df_visual.head()"
      ],
      "execution_count": null,
      "outputs": []
    },
    {
      "cell_type": "markdown",
      "metadata": {
        "id": "ceUzzSmuiMUQ"
      },
      "source": [
        "# Image Features Part 2\n",
        "\n",
        "## Visual data extracted for (almost) all houses"
      ]
    },
    {
      "cell_type": "markdown",
      "metadata": {
        "id": "8eEIDsUmiMUQ"
      },
      "source": [
        "We performed feature extraction for almost all houses in the sales dataset and stored the final dataframe in a .csv file. The only houses not confisered were found to lie outside the geographic bounds of the image raster and have therefore could not be considered. The .csv file also contains the sale and building IDs so you can match them to the house prices dataset.\n",
        "\n",
        "See the final .csv file below."
      ]
    },
    {
      "cell_type": "code",
      "metadata": {
        "id": "YMnxVHHliMUQ"
      },
      "source": [
        "df_img = pd.read_csv('sales_data_2015_DF-inception-conv.csv', index_col=0)\n",
        "df_img.head()"
      ],
      "execution_count": null,
      "outputs": []
    },
    {
      "cell_type": "code",
      "metadata": {
        "id": "ZAFvSTuKiMUR"
      },
      "source": [
        "df_img.info()"
      ],
      "execution_count": null,
      "outputs": []
    },
    {
      "cell_type": "markdown",
      "metadata": {
        "id": "KEeavyzpiMUR"
      },
      "source": [
        "### To do:\n",
        "\n",
        "- [ ] Combine these visual features from satellite imagery into the original house price dataframe. \n",
        "- [ ] Find what features are useful? How useful? Which models to could use? \n"
      ]
    }
  ]
}